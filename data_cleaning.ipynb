{
 "cells": [
  {
   "cell_type": "markdown",
   "metadata": {},
   "source": [
    "### Where does the dataset come from? Download from yelp.com"
   ]
  },
  {
   "cell_type": "markdown",
   "metadata": {},
   "source": [
    "### Businesses"
   ]
  },
  {
   "cell_type": "code",
   "execution_count": 14,
   "metadata": {},
   "outputs": [],
   "source": [
    "import pandas as pd\n",
    "import json\n",
    "import re\n",
    "import numpy as np"
   ]
  },
  {
   "cell_type": "code",
   "execution_count": 15,
   "metadata": {},
   "outputs": [],
   "source": [
    "data = []\n",
    "\n",
    "with open('yelp_dataset/yelp_academic_dataset_business.json') as f:\n",
    "\n",
    "    for line in f:\n",
    "        \n",
    "        json_dict = json.loads(line)\n",
    "\n",
    "        if json_dict['attributes']:\n",
    "            if 'BusinessParking' in json_dict['attributes'].keys():\n",
    "\n",
    "                json_dict['attributes']['BusinessParking'] = eval(json_dict['attributes']['BusinessParking'])\n",
    "\n",
    "        data.append(json_dict)"
   ]
  },
  {
   "cell_type": "code",
   "execution_count": 16,
   "metadata": {},
   "outputs": [],
   "source": [
    "businesses = pd.json_normalize(data)"
   ]
  },
  {
   "cell_type": "code",
   "execution_count": 17,
   "metadata": {},
   "outputs": [],
   "source": [
    "businesses.columns = businesses.columns.str.split(('.')).str[-1]"
   ]
  },
  {
   "cell_type": "code",
   "execution_count": 18,
   "metadata": {},
   "outputs": [
    {
     "data": {
      "text/plain": [
       "Index(['business_id', 'name', 'address', 'city', 'state', 'postal_code',\n",
       "       'latitude', 'longitude', 'stars', 'review_count', 'is_open',\n",
       "       'categories', 'hours', 'ByAppointmentOnly',\n",
       "       'BusinessAcceptsCreditCards', 'Monday', 'Tuesday', 'Wednesday',\n",
       "       'Thursday', 'Friday', 'Saturday', 'BikeParking',\n",
       "       'RestaurantsPriceRange2', 'CoatCheck', 'RestaurantsTakeOut',\n",
       "       'RestaurantsDelivery', 'Caters', 'WiFi', 'garage', 'street',\n",
       "       'validated', 'lot', 'valet', 'WheelchairAccessible', 'HappyHour',\n",
       "       'OutdoorSeating', 'HasTV', 'RestaurantsReservations', 'DogsAllowed',\n",
       "       'Sunday', 'Alcohol', 'GoodForKids', 'BusinessParking',\n",
       "       'RestaurantsAttire', 'Ambience', 'RestaurantsTableService',\n",
       "       'RestaurantsGoodForGroups', 'DriveThru', 'attributes', 'NoiseLevel',\n",
       "       'GoodForMeal', 'BusinessAcceptsBitcoin', 'Smoking', 'Music',\n",
       "       'GoodForDancing', 'AcceptsInsurance', 'BestNights', 'BYOB', 'Corkage',\n",
       "       'BYOBCorkage', 'HairSpecializesIn', 'Open24Hours',\n",
       "       'RestaurantsCounterService', 'AgesAllowed', 'DietaryRestrictions'],\n",
       "      dtype='object')"
      ]
     },
     "execution_count": 18,
     "metadata": {},
     "output_type": "execute_result"
    }
   ],
   "source": [
    "businesses.columns"
   ]
  },
  {
   "cell_type": "code",
   "execution_count": 19,
   "metadata": {},
   "outputs": [],
   "source": [
    "columns = []\n",
    "\n",
    "for column in businesses.columns:\n",
    "    column = re.sub(r'(\\w)([A-Z])', r'\\1_\\2', column)\n",
    "    column = re.sub(r'Restaurants_', r'', column)\n",
    "    column = re.sub(r'Business_', r'', column)\n",
    "    column = re.sub(r'(Range)([0-9])', r'\\1', column)\n",
    "    columns.append(column.lower())\n",
    "\n",
    "businesses.columns = columns"
   ]
  },
  {
   "cell_type": "code",
   "execution_count": 26,
   "metadata": {},
   "outputs": [],
   "source": [
    "businesses.drop(\n",
    "  [\n",
    "    'attributes',\n",
    "    'hair_specializes_in',\n",
    "    'counter_service',\n",
    "    'open24_hours',\n",
    "    'dietary_restrictions',\n",
    "    'accepts_insurance',\n",
    "    'ages_allowed',\n",
    "    'b_yo_bcorkage',\n",
    "    'corkage',\n",
    "    'smoking',\n",
    "    'b_yo_b',\n",
    "    'good_for_dancing',\n",
    "    'coat_check',\n",
    "    'by_appointment_only',\n",
    "    'best_nights',\n",
    "    'music',\n",
    "    'drive_thru',\n",
    "    'accepts_bitcoin',\n",
    "    'dogs_allowed',\n",
    "    'happy_hour',\n",
    "    'wheelchair_accessible',\n",
    "    'good_for_meal',\n",
    "    'ambience',\n",
    "    'business_parking',\n",
    "    'address',\n",
    "    'postal_code',\n",
    "    'hours',\n",
    "    'is_open',\n",
    "    'monday',\n",
    "    'tuesday',\n",
    "    'wednesday',\n",
    "    'thursday',\n",
    "    'friday',\n",
    "    'saturday',\n",
    "    'sunday'\n",
    "  ],\n",
    "  axis=1, errors='ignore', inplace=True\n",
    ")"
   ]
  },
  {
   "cell_type": "code",
   "execution_count": 21,
   "metadata": {},
   "outputs": [],
   "source": [
    "businesses['alcohol'] = businesses['alcohol'].str.replace(\"u'\", \"\").str.replace(\"'\", \"\")\n",
    "businesses['noise_level'] = businesses['noise_level'].str.replace(\"u'\", \"\").str.replace(\"'\", \"\")\n",
    "businesses['attire'] = businesses['attire'].str.replace(\"u'\", \"\").str.replace(\"'\", \"\")\n",
    "businesses['wi_fi'] = businesses['wi_fi'].str.replace(\"u'\", \"\").str.replace(\"'\", \"\")"
   ]
  },
  {
   "cell_type": "code",
   "execution_count": 22,
   "metadata": {},
   "outputs": [],
   "source": [
    "def check_parking(row):\n",
    "    if row['garage'] == True or row['street'] == True or row['validated'] == True or row['lot'] == True or row['valet'] == True:\n",
    "        return 'True'\n",
    "    if row['garage'] == False or row['street'] == False or row['validated'] == False or row['lot'] == False or row['valet'] == False:\n",
    "        return 'False'\n",
    "    else:\n",
    "        return np.nan"
   ]
  },
  {
   "cell_type": "code",
   "execution_count": 13,
   "metadata": {},
   "outputs": [],
   "source": [
    "businesses['parking_available'] = businesses.apply(check_parking, axis=1)"
   ]
  },
  {
   "cell_type": "code",
   "execution_count": 23,
   "metadata": {},
   "outputs": [],
   "source": [
    "businesses.drop(['garage', 'street','validated','lot','valet'], axis=1, inplace=True)"
   ]
  },
  {
   "cell_type": "code",
   "execution_count": 27,
   "metadata": {},
   "outputs": [
    {
     "data": {
      "text/plain": [
       "Index(['business_id', 'name', 'city', 'state', 'latitude', 'longitude',\n",
       "       'stars', 'review_count', 'categories', 'accepts_credit_cards',\n",
       "       'bike_parking', 'price_range', 'take_out', 'delivery', 'caters',\n",
       "       'wi_fi', 'outdoor_seating', 'has_tv', 'reservations', 'alcohol',\n",
       "       'good_for_kids', 'parking', 'attire', 'table_service',\n",
       "       'good_for_groups', 'noise_level'],\n",
       "      dtype='object')"
      ]
     },
     "execution_count": 27,
     "metadata": {},
     "output_type": "execute_result"
    }
   ],
   "source": [
    "businesses.columns"
   ]
  },
  {
   "cell_type": "markdown",
   "metadata": {},
   "source": [
    "### We have created a table with all businesses and the attributes we want to have a look at"
   ]
  },
  {
   "cell_type": "markdown",
   "metadata": {},
   "source": [
    "### Businesses in Pennsylvania"
   ]
  },
  {
   "cell_type": "code",
   "execution_count": 33,
   "metadata": {},
   "outputs": [],
   "source": [
    "pennsylvania = businesses[businesses['state'] == 'PA'].copy()"
   ]
  },
  {
   "cell_type": "markdown",
   "metadata": {},
   "source": [
    "### Restaurants in Pennsylvania"
   ]
  },
  {
   "cell_type": "code",
   "execution_count": 35,
   "metadata": {},
   "outputs": [],
   "source": [
    "pennsylvania.dropna(subset='categories', inplace=True)\n",
    "pennsylvania.reset_index(drop=True, inplace=True)"
   ]
  },
  {
   "cell_type": "code",
   "execution_count": 47,
   "metadata": {},
   "outputs": [],
   "source": [
    "# Is there a faster ways to do this?\n",
    "\n",
    "categories =[\n",
    "    'Coffee & Tea',\n",
    "    'Bistros',\n",
    "    'Breakfast & Brunch',\n",
    "    'Cafes',\n",
    "    'French',\n",
    "    'Greek',\n",
    "    'Italian',\n",
    "    'Mexican',\n",
    "    'Tacos',\n",
    "    'Egyptian',\n",
    "    'Pizza',\n",
    "    'Soup',\n",
    "    'Sushi Bars',\n",
    "    'Vegetarian',\n",
    "    'Waffles',\n",
    "    'Food',\n",
    "    'Restaurants',\n",
    "    'Bars'\n",
    "]\n",
    "\n",
    "restaurants = pd.DataFrame()\n",
    "\n",
    "for index, item in pennsylvania['categories'].items():\n",
    "\n",
    "    for category in categories:\n",
    "        if category in item:\n",
    "            restaurants = pd.concat([restaurants, pennsylvania[index:index+1]])\n",
    "            break"
   ]
  },
  {
   "cell_type": "code",
   "execution_count": 49,
   "metadata": {},
   "outputs": [],
   "source": [
    "with open('tables/restaurants_pennsylvania.csv', 'w') as f:\n",
    "    restaurants.to_csv(f, mode='a', header=True, index=False)"
   ]
  },
  {
   "cell_type": "markdown",
   "metadata": {},
   "source": [
    "### We have created a table with all restaurants in Pennsylvania and saved it in a .csv for later analysis"
   ]
  },
  {
   "cell_type": "markdown",
   "metadata": {},
   "source": [
    "### Now we load the table with all reviews and create a .csv which only contains reviews from restaurants in Pennsylvania"
   ]
  },
  {
   "cell_type": "code",
   "execution_count": 50,
   "metadata": {},
   "outputs": [],
   "source": [
    "businesses_ids = restaurants['business_id'].to_list()\n",
    "\n",
    "column_names = ['review_id', 'user_id', 'business_id', 'stars', 'useful', 'funny', 'cool', 'text', 'date']\n",
    "\n",
    "chunks = pd.read_json('yelp_dataset/yelp_academic_dataset_review.json', lines=True, chunksize=100000)\n",
    "\n",
    "with open('tables/reviews_pennsylvania.csv', 'w') as f:\n",
    "    header = ','.join(column_names)\n",
    "    f.write(header + '\\n')\n",
    "\n",
    "    for chunk in chunks:\n",
    "        reviews = pd.DataFrame(chunk)\n",
    "        \n",
    "        reviews[reviews['business_id'].isin(businesses_ids)].to_csv(f, mode='a', header=False, index=False)"
   ]
  },
  {
   "cell_type": "code",
   "execution_count": null,
   "metadata": {},
   "outputs": [],
   "source": [
    "# Replace values in columns by dummies\n",
    "\n",
    "columns = []\n",
    "stop_list = [\n",
    "    'business_id',\n",
    "    'name',\n",
    "    'city',\n",
    "    'state',\n",
    "    'latitude',\n",
    "    'longitude',\n",
    "    'stars',\n",
    "    'review_count',\n",
    "    'categories',\n",
    "    'monday',\n",
    "    'tuesday',\n",
    "    'wednesday',\n",
    "    'thursday',\n",
    "    'friday',\n",
    "    'saturday',\n",
    "    'sunday'\n",
    "]\n",
    "\n",
    "for column in restaurants.columns:\n",
    "    if column not in stop_list:  \n",
    "        columns.append(column)\n",
    "\n",
    "for column in columns:\n",
    "    restaurants[column].replace('True', 1, inplace=True)\n",
    "    restaurants[column].replace('False', 0, inplace=True)\n",
    "    restaurants[column].replace('nan', np.NaN, inplace=True)\n",
    "    restaurants[column].replace('None', np.NaN, inplace=True)\n",
    "    restaurants[column].replace('none', np.NaN, inplace=True)\n",
    "    restaurants[column].replace('casual', 0, inplace=True)\n",
    "    restaurants[column].replace('formal', 1, inplace=True)\n",
    "    restaurants[column].replace('dressy', 2, inplace=True)\n",
    "    restaurants[column].replace('full_bar', 0, inplace=True)\n",
    "    restaurants[column].replace('beer_and_wine', 1, inplace=True)\n",
    "    restaurants[column].replace('average', 0, inplace=True)\n",
    "    restaurants[column].replace('quiet', 1, inplace=True)\n",
    "    restaurants[column].replace('loud', 2, inplace=True)\n",
    "    restaurants[column].replace('very_loud', 3, inplace=True)\n",
    "    restaurants[column].replace('no', 0, inplace=True)\n",
    "    restaurants[column].replace('free', 1, inplace=True)\n",
    "    restaurants[column].replace('paid', 2, inplace=True)"
   ]
  }
 ],
 "metadata": {
  "kernelspec": {
   "display_name": "nf_sql",
   "language": "python",
   "name": "python3"
  },
  "language_info": {
   "codemirror_mode": {
    "name": "ipython",
    "version": 3
   },
   "file_extension": ".py",
   "mimetype": "text/x-python",
   "name": "python",
   "nbconvert_exporter": "python",
   "pygments_lexer": "ipython3",
   "version": "3.11.2"
  }
 },
 "nbformat": 4,
 "nbformat_minor": 2
}

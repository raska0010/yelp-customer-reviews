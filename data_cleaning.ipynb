{
 "cells": [
  {
   "cell_type": "markdown",
   "metadata": {},
   "source": [
    "### Where does the dataset come from? Download from yelp.com"
   ]
  },
  {
   "cell_type": "markdown",
   "metadata": {},
   "source": [
    "### Businesses"
   ]
  },
  {
   "cell_type": "code",
   "execution_count": 2,
   "metadata": {},
   "outputs": [],
   "source": [
    "import pandas as pd\n",
    "import json"
   ]
  },
  {
   "cell_type": "code",
   "execution_count": 3,
   "metadata": {},
   "outputs": [],
   "source": [
    "data = []\n",
    "\n",
    "with open('data/yelp_academic_dataset_business.json') as f:\n",
    "\n",
    "    for line in f:\n",
    "        \n",
    "        json_dict = json.loads(line)\n",
    "\n",
    "        if json_dict['attributes']:\n",
    "            if 'BusinessParking' in json_dict['attributes'].keys():\n",
    "\n",
    "                json_dict['attributes']['BusinessParking'] = eval(json_dict['attributes']['BusinessParking'])\n",
    "\n",
    "        data.append(json_dict)"
   ]
  },
  {
   "cell_type": "code",
   "execution_count": 4,
   "metadata": {},
   "outputs": [],
   "source": [
    "businesses = pd.json_normalize(data)"
   ]
  },
  {
   "cell_type": "code",
   "execution_count": 5,
   "metadata": {},
   "outputs": [],
   "source": [
    "businesses.columns = businesses.columns.str.split(('.')).str[-1]"
   ]
  },
  {
   "cell_type": "code",
   "execution_count": 9,
   "metadata": {},
   "outputs": [
    {
     "data": {
      "text/plain": [
       "Index(['business_id', 'name', 'address', 'city', 'state', 'postal_code',\n",
       "       'latitude', 'longitude', 'stars', 'review_count', 'is_open',\n",
       "       'categories', 'hours', 'by_appointment_only', 'accepts_credit_cards',\n",
       "       'monday', 'tuesday', 'wednesday', 'thursday', 'friday', 'saturday',\n",
       "       'bike_parking', 'price_range', 'coat_check', 'take_out', 'delivery',\n",
       "       'caters', 'wi_fi', 'garage', 'street', 'validated', 'lot', 'valet',\n",
       "       'wheelchair_accessible', 'happy_hour', 'outdoor_seating', 'has_tv',\n",
       "       'reservations', 'dogs_allowed', 'sunday', 'alcohol', 'good_for_kids',\n",
       "       'parking', 'attire', 'ambience', 'table_service', 'good_for_groups',\n",
       "       'drive_thru', 'attributes', 'noise_level', 'good_for_meal',\n",
       "       'accepts_bitcoin', 'smoking', 'music', 'good_for_dancing',\n",
       "       'accepts_insurance', 'best_nights', 'b_yo_b', 'corkage',\n",
       "       'b_yo_bcorkage', 'hair_specializes_in', 'open24_hours',\n",
       "       'counter_service', 'ages_allowed', 'dietary_restrictions'],\n",
       "      dtype='object')"
      ]
     },
     "execution_count": 9,
     "metadata": {},
     "output_type": "execute_result"
    }
   ],
   "source": [
    "businesses.columns"
   ]
  },
  {
   "cell_type": "code",
   "execution_count": 7,
   "metadata": {},
   "outputs": [],
   "source": [
    "import re"
   ]
  },
  {
   "cell_type": "code",
   "execution_count": 8,
   "metadata": {},
   "outputs": [],
   "source": [
    "columns = []\n",
    "\n",
    "for column in businesses.columns:\n",
    "    column = re.sub(r'(\\w)([A-Z])', r'\\1_\\2', column)\n",
    "    column = re.sub(r'Restaurants_', r'', column)\n",
    "    column = re.sub(r'Business_', r'', column)\n",
    "    column = re.sub(r'(Range)([0-9])', r'\\1', column)\n",
    "    columns.append(column.lower())\n",
    "\n",
    "businesses.columns = columns"
   ]
  },
  {
   "cell_type": "code",
   "execution_count": 10,
   "metadata": {},
   "outputs": [],
   "source": [
    "businesses.drop(\n",
    "  [\n",
    "    'attributes',\n",
    "    'hair_specializes_in',\n",
    "    'counter_service',\n",
    "    'open24_hours',\n",
    "    'dietary_restrictions',\n",
    "    'accepts_insurance',\n",
    "    'ages_allowed',\n",
    "    'b_yo_bcorkage',\n",
    "    'corkage',\n",
    "    'smoking',\n",
    "    'b_yo_b',\n",
    "    'good_for_dancing',\n",
    "    'coat_check',\n",
    "    'by_appointment_only',\n",
    "    'best_nights',\n",
    "    'music',\n",
    "    'drive_thru',\n",
    "    'business_accepts_bitcoin',\n",
    "    'dogs_allowed',\n",
    "    'happy_hour',\n",
    "    'wheelchair_accessible',\n",
    "    'good_for_meal',\n",
    "    'ambience',\n",
    "    'business_parking',\n",
    "    'address',\n",
    "    'postal_code',\n",
    "    'hours',\n",
    "    'is_open',\n",
    "    'tuesday',\n",
    "    'wednesday',\n",
    "    'thursday',\n",
    "    'friday',\n",
    "    'saturday',\n",
    "    'sunday'\n",
    "  ],\n",
    "  axis=1, errors='ignore', inplace=True\n",
    ")"
   ]
  },
  {
   "cell_type": "code",
   "execution_count": 11,
   "metadata": {},
   "outputs": [],
   "source": [
    "businesses['alcohol'] = businesses['alcohol'].str.replace(\"u'\", \"\").str.replace(\"'\", \"\")\n",
    "businesses['noise_level'] = businesses['noise_level'].str.replace(\"u'\", \"\").str.replace(\"'\", \"\")\n",
    "businesses['attire'] = businesses['attire'].str.replace(\"u'\", \"\").str.replace(\"'\", \"\")\n",
    "businesses['wi_fi'] = businesses['wi_fi'].str.replace(\"u'\", \"\").str.replace(\"'\", \"\")"
   ]
  },
  {
   "cell_type": "code",
   "execution_count": 12,
   "metadata": {},
   "outputs": [],
   "source": [
    "import numpy as np"
   ]
  },
  {
   "cell_type": "code",
   "execution_count": 13,
   "metadata": {},
   "outputs": [],
   "source": [
    "def parking_check(row):\n",
    "    if row['garage'] == True or row['street'] == True or row['validated'] == True or row['lot'] == True or row['valet'] == True:\n",
    "        return 'True'\n",
    "    if row['garage'] == False or row['street'] == False or row['validated'] == False or row['lot'] == False or row['valet'] == False:\n",
    "        return 'False'\n",
    "    else:\n",
    "        return np.nan"
   ]
  },
  {
   "cell_type": "code",
   "execution_count": 14,
   "metadata": {},
   "outputs": [],
   "source": [
    "businesses['parking_available'] = businesses.apply(parking_check, axis=1)"
   ]
  },
  {
   "cell_type": "code",
   "execution_count": 15,
   "metadata": {},
   "outputs": [],
   "source": [
    "businesses.drop(['garage', 'street','validated','lot','valet'], axis=1, inplace=True)"
   ]
  },
  {
   "cell_type": "markdown",
   "metadata": {},
   "source": [
    "### We have created a table with all businesses and the attributes we want to have a look at"
   ]
  },
  {
   "cell_type": "markdown",
   "metadata": {},
   "source": [
    "### Businesses in Pennsylvania"
   ]
  },
  {
   "cell_type": "code",
   "execution_count": 16,
   "metadata": {},
   "outputs": [],
   "source": [
    "pennsylvania = businesses[businesses['state'] == 'PA']"
   ]
  },
  {
   "cell_type": "markdown",
   "metadata": {},
   "source": [
    "### Restaurants in Pennsylvania"
   ]
  },
  {
   "cell_type": "code",
   "execution_count": 17,
   "metadata": {},
   "outputs": [
    {
     "name": "stderr",
     "output_type": "stream",
     "text": [
      "/var/folders/5t/qp4h49ss46q2tzmcdgn4clc40000gn/T/ipykernel_2692/1404309592.py:1: SettingWithCopyWarning: \n",
      "A value is trying to be set on a copy of a slice from a DataFrame\n",
      "\n",
      "See the caveats in the documentation: https://pandas.pydata.org/pandas-docs/stable/user_guide/indexing.html#returning-a-view-versus-a-copy\n",
      "  pennsylvania.dropna(subset='categories', inplace=True)\n"
     ]
    }
   ],
   "source": [
    "pennsylvania.dropna(subset='categories', inplace=True)\n",
    "pennsylvania.reset_index(drop=True, inplace=True)"
   ]
  },
  {
   "cell_type": "code",
   "execution_count": 18,
   "metadata": {},
   "outputs": [],
   "source": [
    "categories =[\n",
    "    'Coffee & Tea',\n",
    "    'Bistros',\n",
    "    'Breakfast & Brunch',\n",
    "    'Cafes',\n",
    "    'French',\n",
    "    'Greek',\n",
    "    'Italian',\n",
    "    'Mexican',\n",
    "    'Tacos',\n",
    "    'Egyptian',\n",
    "    'Pizza',\n",
    "    'Soup',\n",
    "    'Sushi Bars',\n",
    "    'Vegetarian',\n",
    "    'Waffles',\n",
    "    'Food',\n",
    "    'Restaurants',\n",
    "    'Bars'\n",
    "]\n",
    "\n",
    "restaurants = pd.DataFrame()\n",
    "\n",
    "for index, item in pennsylvania['categories'].items():\n",
    "\n",
    "    for category in categories:\n",
    "        if category in item:\n",
    "            restaurants = pd.concat([restaurants, pennsylvania[index:index+1]])\n",
    "            break"
   ]
  },
  {
   "cell_type": "code",
   "execution_count": 20,
   "metadata": {},
   "outputs": [],
   "source": [
    "with open('data/restaurants_pennsylvania.csv', 'w') as f:\n",
    "    restaurants.to_csv(f, mode='a', header=True, index=False)"
   ]
  },
  {
   "cell_type": "markdown",
   "metadata": {},
   "source": [
    "### We have created a table with all restaurants in Pennsylvania and saved it in a .csv for later analysis"
   ]
  },
  {
   "cell_type": "markdown",
   "metadata": {},
   "source": [
    "### Now we load the table with all reviews and create a .csv which only contains reviews from restaurants in Pennsylvania"
   ]
  },
  {
   "cell_type": "code",
   "execution_count": null,
   "metadata": {},
   "outputs": [],
   "source": [
    "businesses_ids = restaurants['business_id'].to_list()\n",
    "\n",
    "column_names = ['review_id', 'user_id', 'business_id', 'stars', 'useful', 'funny', 'cool', 'text', 'date']\n",
    "\n",
    "chunks = pd.read_json('data/yelp_academic_dataset_review.json', lines=True, chunksize=100000)\n",
    "\n",
    "with open('data/reviews_pennsylvania.csv', 'w') as f:\n",
    "    header = ','.join(column_names)\n",
    "    f.write(header + '\\n')\n",
    "\n",
    "    for chunk in chunks:\n",
    "        reviews = pd.DataFrame(chunk)\n",
    "        \n",
    "        reviews[reviews['business_id'].isin(businesses_ids)].to_csv(f, mode='a', header=False, index=False)"
   ]
  }
 ],
 "metadata": {
  "kernelspec": {
   "display_name": "nf_sql",
   "language": "python",
   "name": "python3"
  },
  "language_info": {
   "codemirror_mode": {
    "name": "ipython",
    "version": 3
   },
   "file_extension": ".py",
   "mimetype": "text/x-python",
   "name": "python",
   "nbconvert_exporter": "python",
   "pygments_lexer": "ipython3",
   "version": "3.9.17"
  }
 },
 "nbformat": 4,
 "nbformat_minor": 2
}

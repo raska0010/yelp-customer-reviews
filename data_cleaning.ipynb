{
 "cells": [
  {
   "cell_type": "markdown",
   "metadata": {},
   "source": [
    "### Where does the dataset come from? Download from yelp.com"
   ]
  },
  {
   "cell_type": "markdown",
   "metadata": {},
   "source": [
    "### Businesses"
   ]
  },
  {
   "cell_type": "code",
   "execution_count": 14,
   "metadata": {},
   "outputs": [],
   "source": [
    "import pandas as pd\n",
    "import json\n",
    "import re\n",
    "import numpy as np"
   ]
  },
  {
   "cell_type": "code",
   "execution_count": 15,
   "metadata": {},
   "outputs": [],
   "source": [
    "data = []\n",
    "\n",
    "with open('yelp_dataset/yelp_academic_dataset_business.json') as f:\n",
    "\n",
    "    for line in f:\n",
    "        \n",
    "        json_dict = json.loads(line)\n",
    "\n",
    "        if json_dict['attributes']:\n",
    "            if 'BusinessParking' in json_dict['attributes'].keys():\n",
    "\n",
    "                json_dict['attributes']['BusinessParking'] = eval(json_dict['attributes']['BusinessParking'])\n",
    "\n",
    "        data.append(json_dict)"
   ]
  },
  {
   "cell_type": "code",
   "execution_count": 16,
   "metadata": {},
   "outputs": [],
   "source": [
    "businesses = pd.json_normalize(data)"
   ]
  },
  {
   "cell_type": "code",
   "execution_count": 17,
   "metadata": {},
   "outputs": [],
   "source": [
    "businesses.columns = businesses.columns.str.split(('.')).str[-1]"
   ]
  },
  {
   "cell_type": "code",
   "execution_count": 18,
   "metadata": {},
   "outputs": [
    {
     "data": {
      "text/plain": [
       "Index(['business_id', 'name', 'address', 'city', 'state', 'postal_code',\n",
       "       'latitude', 'longitude', 'stars', 'review_count', 'is_open',\n",
       "       'categories', 'hours', 'ByAppointmentOnly',\n",
       "       'BusinessAcceptsCreditCards', 'Monday', 'Tuesday', 'Wednesday',\n",
       "       'Thursday', 'Friday', 'Saturday', 'BikeParking',\n",
       "       'RestaurantsPriceRange2', 'CoatCheck', 'RestaurantsTakeOut',\n",
       "       'RestaurantsDelivery', 'Caters', 'WiFi', 'garage', 'street',\n",
       "       'validated', 'lot', 'valet', 'WheelchairAccessible', 'HappyHour',\n",
       "       'OutdoorSeating', 'HasTV', 'RestaurantsReservations', 'DogsAllowed',\n",
       "       'Sunday', 'Alcohol', 'GoodForKids', 'BusinessParking',\n",
       "       'RestaurantsAttire', 'Ambience', 'RestaurantsTableService',\n",
       "       'RestaurantsGoodForGroups', 'DriveThru', 'attributes', 'NoiseLevel',\n",
       "       'GoodForMeal', 'BusinessAcceptsBitcoin', 'Smoking', 'Music',\n",
       "       'GoodForDancing', 'AcceptsInsurance', 'BestNights', 'BYOB', 'Corkage',\n",
       "       'BYOBCorkage', 'HairSpecializesIn', 'Open24Hours',\n",
       "       'RestaurantsCounterService', 'AgesAllowed', 'DietaryRestrictions'],\n",
       "      dtype='object')"
      ]
     },
     "execution_count": 18,
     "metadata": {},
     "output_type": "execute_result"
    }
   ],
   "source": [
    "businesses.columns"
   ]
  },
  {
   "cell_type": "code",
   "execution_count": 19,
   "metadata": {},
   "outputs": [],
   "source": [
    "columns = []\n",
    "\n",
    "for column in businesses.columns:\n",
    "    column = re.sub(r'(\\w)([A-Z])', r'\\1_\\2', column)\n",
    "    column = re.sub(r'Restaurants_', r'', column)\n",
    "    column = re.sub(r'Business_', r'', column)\n",
    "    column = re.sub(r'(Range)([0-9])', r'\\1', column)\n",
    "    columns.append(column.lower())\n",
    "\n",
    "businesses.columns = columns"
   ]
  },
  {
   "cell_type": "code",
   "execution_count": 26,
   "metadata": {},
   "outputs": [],
   "source": [
    "businesses.drop(\n",
    "  [\n",
    "    'attributes',\n",
    "    'hair_specializes_in',\n",
    "    'counter_service',\n",
    "    'open24_hours',\n",
    "    'dietary_restrictions',\n",
    "    'accepts_insurance',\n",
    "    'ages_allowed',\n",
    "    'b_yo_bcorkage',\n",
    "    'corkage',\n",
    "    'smoking',\n",
    "    'b_yo_b',\n",
    "    'good_for_dancing',\n",
    "    'coat_check',\n",
    "    'by_appointment_only',\n",
    "    'best_nights',\n",
    "    'music',\n",
    "    'drive_thru',\n",
    "    'accepts_bitcoin',\n",
    "    'dogs_allowed',\n",
    "    'happy_hour',\n",
    "    'wheelchair_accessible',\n",
    "    'good_for_meal',\n",
    "    'ambience',\n",
    "    'business_parking',\n",
    "    'address',\n",
    "    'postal_code',\n",
    "    'hours',\n",
    "    'is_open',\n",
    "    'monday',\n",
    "    'tuesday',\n",
    "    'wednesday',\n",
    "    'thursday',\n",
    "    'friday',\n",
    "    'saturday',\n",
    "    'sunday'\n",
    "  ],\n",
    "  axis=1, errors='ignore', inplace=True\n",
    ")"
   ]
  },
  {
   "cell_type": "code",
   "execution_count": 21,
   "metadata": {},
   "outputs": [],
   "source": [
    "businesses['alcohol'] = businesses['alcohol'].str.replace(\"u'\", \"\").str.replace(\"'\", \"\")\n",
    "businesses['noise_level'] = businesses['noise_level'].str.replace(\"u'\", \"\").str.replace(\"'\", \"\")\n",
    "businesses['attire'] = businesses['attire'].str.replace(\"u'\", \"\").str.replace(\"'\", \"\")\n",
    "businesses['wi_fi'] = businesses['wi_fi'].str.replace(\"u'\", \"\").str.replace(\"'\", \"\")"
   ]
  },
  {
   "cell_type": "code",
   "execution_count": 22,
   "metadata": {},
   "outputs": [],
   "source": [
    "def check_parking(row):\n",
    "    if row['garage'] == True or row['street'] == True or row['validated'] == True or row['lot'] == True or row['valet'] == True:\n",
    "        return 'True'\n",
    "    if row['garage'] == False or row['street'] == False or row['validated'] == False or row['lot'] == False or row['valet'] == False:\n",
    "        return 'False'\n",
    "    else:\n",
    "        return np.nan"
   ]
  },
  {
   "cell_type": "code",
   "execution_count": 13,
   "metadata": {},
   "outputs": [],
   "source": [
    "businesses['parking_available'] = businesses.apply(check_parking, axis=1)"
   ]
  },
  {
   "cell_type": "code",
   "execution_count": 23,
   "metadata": {},
   "outputs": [],
   "source": [
    "businesses.drop(['garage', 'street','validated','lot','valet'], axis=1, inplace=True)"
   ]
  },
  {
   "cell_type": "code",
   "execution_count": 27,
   "metadata": {},
   "outputs": [
    {
     "data": {
      "text/plain": [
       "Index(['business_id', 'name', 'city', 'state', 'latitude', 'longitude',\n",
       "       'stars', 'review_count', 'categories', 'accepts_credit_cards',\n",
       "       'bike_parking', 'price_range', 'take_out', 'delivery', 'caters',\n",
       "       'wi_fi', 'outdoor_seating', 'has_tv', 'reservations', 'alcohol',\n",
       "       'good_for_kids', 'parking', 'attire', 'table_service',\n",
       "       'good_for_groups', 'noise_level'],\n",
       "      dtype='object')"
      ]
     },
     "execution_count": 27,
     "metadata": {},
     "output_type": "execute_result"
    }
   ],
   "source": [
    "businesses.columns"
   ]
  },
  {
   "cell_type": "markdown",
   "metadata": {},
   "source": [
    "### We have created a table with all businesses and the attributes we want to have a look at"
   ]
  },
  {
   "cell_type": "markdown",
   "metadata": {},
   "source": [
    "### Businesses in Pennsylvania"
   ]
  },
  {
   "cell_type": "code",
   "execution_count": 33,
   "metadata": {},
   "outputs": [],
   "source": [
    "pennsylvania = businesses[businesses['state'] == 'PA'].copy()"
   ]
  },
  {
   "cell_type": "markdown",
   "metadata": {},
   "source": [
    "### Restaurants in Pennsylvania"
   ]
  },
  {
   "cell_type": "code",
   "execution_count": 35,
   "metadata": {},
   "outputs": [],
   "source": [
    "pennsylvania.dropna(subset='categories', inplace=True)\n",
    "pennsylvania.reset_index(drop=True, inplace=True)"
   ]
  },
  {
   "cell_type": "code",
   "execution_count": 47,
   "metadata": {},
   "outputs": [],
   "source": [
    "categories =[\n",
    "    'Coffee & Tea',\n",
    "    'Bistros',\n",
    "    'Breakfast & Brunch',\n",
    "    'Cafes',\n",
    "    'French',\n",
    "    'Greek',\n",
    "    'Italian',\n",
    "    'Mexican',\n",
    "    'Tacos',\n",
    "    'Egyptian',\n",
    "    'Pizza',\n",
    "    'Soup',\n",
    "    'Sushi Bars',\n",
    "    'Vegetarian',\n",
    "    'Waffles',\n",
    "    'Food',\n",
    "    'Restaurants',\n",
    "    'Bars'\n",
    "]\n",
    "\n",
    "restaurants = pd.DataFrame()\n",
    "\n",
    "for index, item in pennsylvania['categories'].items():\n",
    "\n",
    "    for category in categories:\n",
    "        if category in item:\n",
    "            restaurants = pd.concat([restaurants, pennsylvania[index:index+1]])\n",
    "            break"
   ]
  },
  {
   "cell_type": "code",
   "execution_count": 48,
   "metadata": {},
   "outputs": [
    {
     "ename": "FileNotFoundError",
     "evalue": "[Errno 2] No such file or directory: 'data/restaurants_pennsylvania.csv'",
     "output_type": "error",
     "traceback": [
      "\u001b[0;31m---------------------------------------------------------------------------\u001b[0m",
      "\u001b[0;31mFileNotFoundError\u001b[0m                         Traceback (most recent call last)",
      "Cell \u001b[0;32mIn[48], line 1\u001b[0m\n\u001b[0;32m----> 1\u001b[0m \u001b[38;5;28;01mwith\u001b[39;00m \u001b[38;5;28;43mopen\u001b[39;49m\u001b[43m(\u001b[49m\u001b[38;5;124;43m'\u001b[39;49m\u001b[38;5;124;43mdata/restaurants_pennsylvania.csv\u001b[39;49m\u001b[38;5;124;43m'\u001b[39;49m\u001b[43m,\u001b[49m\u001b[43m \u001b[49m\u001b[38;5;124;43m'\u001b[39;49m\u001b[38;5;124;43mw\u001b[39;49m\u001b[38;5;124;43m'\u001b[39;49m\u001b[43m)\u001b[49m \u001b[38;5;28;01mas\u001b[39;00m f:\n\u001b[1;32m      2\u001b[0m     restaurants\u001b[38;5;241m.\u001b[39mto_csv(f, mode\u001b[38;5;241m=\u001b[39m\u001b[38;5;124m'\u001b[39m\u001b[38;5;124ma\u001b[39m\u001b[38;5;124m'\u001b[39m, header\u001b[38;5;241m=\u001b[39m\u001b[38;5;28;01mTrue\u001b[39;00m, index\u001b[38;5;241m=\u001b[39m\u001b[38;5;28;01mFalse\u001b[39;00m)\n",
      "File \u001b[0;32m/Library/Frameworks/Python.framework/Versions/3.11/lib/python3.11/site-packages/IPython/core/interactiveshell.py:284\u001b[0m, in \u001b[0;36m_modified_open\u001b[0;34m(file, *args, **kwargs)\u001b[0m\n\u001b[1;32m    277\u001b[0m \u001b[38;5;28;01mif\u001b[39;00m file \u001b[38;5;129;01min\u001b[39;00m {\u001b[38;5;241m0\u001b[39m, \u001b[38;5;241m1\u001b[39m, \u001b[38;5;241m2\u001b[39m}:\n\u001b[1;32m    278\u001b[0m     \u001b[38;5;28;01mraise\u001b[39;00m \u001b[38;5;167;01mValueError\u001b[39;00m(\n\u001b[1;32m    279\u001b[0m         \u001b[38;5;124mf\u001b[39m\u001b[38;5;124m\"\u001b[39m\u001b[38;5;124mIPython won\u001b[39m\u001b[38;5;124m'\u001b[39m\u001b[38;5;124mt let you open fd=\u001b[39m\u001b[38;5;132;01m{\u001b[39;00mfile\u001b[38;5;132;01m}\u001b[39;00m\u001b[38;5;124m by default \u001b[39m\u001b[38;5;124m\"\u001b[39m\n\u001b[1;32m    280\u001b[0m         \u001b[38;5;124m\"\u001b[39m\u001b[38;5;124mas it is likely to crash IPython. If you know what you are doing, \u001b[39m\u001b[38;5;124m\"\u001b[39m\n\u001b[1;32m    281\u001b[0m         \u001b[38;5;124m\"\u001b[39m\u001b[38;5;124myou can use builtins\u001b[39m\u001b[38;5;124m'\u001b[39m\u001b[38;5;124m open.\u001b[39m\u001b[38;5;124m\"\u001b[39m\n\u001b[1;32m    282\u001b[0m     )\n\u001b[0;32m--> 284\u001b[0m \u001b[38;5;28;01mreturn\u001b[39;00m \u001b[43mio_open\u001b[49m\u001b[43m(\u001b[49m\u001b[43mfile\u001b[49m\u001b[43m,\u001b[49m\u001b[43m \u001b[49m\u001b[38;5;241;43m*\u001b[39;49m\u001b[43margs\u001b[49m\u001b[43m,\u001b[49m\u001b[43m \u001b[49m\u001b[38;5;241;43m*\u001b[39;49m\u001b[38;5;241;43m*\u001b[39;49m\u001b[43mkwargs\u001b[49m\u001b[43m)\u001b[49m\n",
      "\u001b[0;31mFileNotFoundError\u001b[0m: [Errno 2] No such file or directory: 'data/restaurants_pennsylvania.csv'"
     ]
    }
   ],
   "source": [
    "with open('data/restaurants_pennsylvania.csv', 'w') as f:\n",
    "    restaurants.to_csv(f, mode='a', header=True, index=False)"
   ]
  },
  {
   "cell_type": "markdown",
   "metadata": {},
   "source": [
    "### We have created a table with all restaurants in Pennsylvania and saved it in a .csv for later analysis"
   ]
  },
  {
   "cell_type": "markdown",
   "metadata": {},
   "source": [
    "### Now we load the table with all reviews and create a .csv which only contains reviews from restaurants in Pennsylvania"
   ]
  },
  {
   "cell_type": "code",
   "execution_count": null,
   "metadata": {},
   "outputs": [],
   "source": [
    "businesses_ids = restaurants['business_id'].to_list()\n",
    "\n",
    "column_names = ['review_id', 'user_id', 'business_id', 'stars', 'useful', 'funny', 'cool', 'text', 'date']\n",
    "\n",
    "chunks = pd.read_json('data/yelp_academic_dataset_review.json', lines=True, chunksize=100000)\n",
    "\n",
    "with open('data/reviews_pennsylvania.csv', 'w') as f:\n",
    "    header = ','.join(column_names)\n",
    "    f.write(header + '\\n')\n",
    "\n",
    "    for chunk in chunks:\n",
    "        reviews = pd.DataFrame(chunk)\n",
    "        \n",
    "        reviews[reviews['business_id'].isin(businesses_ids)].to_csv(f, mode='a', header=False, index=False)"
   ]
  }
 ],
 "metadata": {
  "kernelspec": {
   "display_name": "nf_sql",
   "language": "python",
   "name": "python3"
  },
  "language_info": {
   "codemirror_mode": {
    "name": "ipython",
    "version": 3
   },
   "file_extension": ".py",
   "mimetype": "text/x-python",
   "name": "python",
   "nbconvert_exporter": "python",
   "pygments_lexer": "ipython3",
   "version": "3.11.2"
  }
 },
 "nbformat": 4,
 "nbformat_minor": 2
}

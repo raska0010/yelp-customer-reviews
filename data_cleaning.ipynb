{
 "cells": [
  {
   "cell_type": "markdown",
   "metadata": {},
   "source": [
    "## Is it possible to predict star ratings on Yelp?\n",
    "\n",
    "This project focuses on whether business attributes like availabilty of parking, table service or reservations can be used to predict the star rating of a business on the Yelp website.\n",
    "\n",
    "The data comes from the Yelp Open Data Set which contains 150,346 businesses with over 1.2 million attributes: https://www.yelp.com/dataset.\n",
    "\n",
    "After cleaning the data and some basic EDA I will apply different machine learning models to find the right estimator."
   ]
  },
  {
   "cell_type": "markdown",
   "metadata": {},
   "source": [
    "### Data Cleaning"
   ]
  },
  {
   "cell_type": "code",
   "execution_count": 530,
   "metadata": {},
   "outputs": [],
   "source": [
    "import pandas as pd\n",
    "import json\n",
    "import re\n",
    "import numpy as np"
   ]
  },
  {
   "cell_type": "code",
   "execution_count": 531,
   "metadata": {},
   "outputs": [],
   "source": [
    "# Some of the nested objects like 'BusinessParking' are wronlgy stored \n",
    "# with additional quotation marks around them. The quotes need to be removed\n",
    "# so that the object can be correcly turned into a flat table.\n",
    "\n",
    "data = []\n",
    "\n",
    "with open('yelp_dataset/yelp_academic_dataset_business.json') as f:\n",
    "\n",
    "    for line in f:\n",
    "        json_dict = json.loads(line)\n",
    "\n",
    "        if json_dict['attributes']:\n",
    "            if 'BusinessParking' in json_dict['attributes'].keys():\n",
    "                json_dict['attributes']['BusinessParking'] = eval(json_dict['attributes']['BusinessParking'])\n",
    "\n",
    "        data.append(json_dict)"
   ]
  },
  {
   "cell_type": "code",
   "execution_count": 532,
   "metadata": {},
   "outputs": [],
   "source": [
    "businesses = pd.json_normalize(data)"
   ]
  },
  {
   "cell_type": "code",
   "execution_count": 533,
   "metadata": {},
   "outputs": [],
   "source": [
    "# Make column names lowercase and seperate words with underscore\n",
    "\n",
    "businesses.columns = businesses.columns.str.split(('.')).str[-1]\n",
    "\n",
    "columns = []\n",
    "\n",
    "for column in businesses.columns:\n",
    "    column = re.sub(r'(\\w)([A-Z])', r'\\1_\\2', column)\n",
    "    column = re.sub(r'Restaurants_', r'', column)\n",
    "    column = re.sub(r'Business_', r'', column)\n",
    "    column = re.sub(r'(Range)([0-9])', r'\\1', column)\n",
    "    columns.append(column.lower())\n",
    "\n",
    "businesses.columns = columns"
   ]
  },
  {
   "cell_type": "code",
   "execution_count": 534,
   "metadata": {},
   "outputs": [
    {
     "name": "stdout",
     "output_type": "stream",
     "text": [
      "<class 'pandas.core.frame.DataFrame'>\n",
      "RangeIndex: 150346 entries, 0 to 150345\n",
      "Data columns (total 52 columns):\n",
      " #   Column                 Non-Null Count   Dtype  \n",
      "---  ------                 --------------   -----  \n",
      " 0   by_appointment_only    42339 non-null   object \n",
      " 1   accepts_credit_cards   119765 non-null  object \n",
      " 2   monday                 114474 non-null  object \n",
      " 3   tuesday                120631 non-null  object \n",
      " 4   wednesday              123771 non-null  object \n",
      " 5   thursday               125198 non-null  object \n",
      " 6   friday                 124999 non-null  object \n",
      " 7   saturday               110770 non-null  object \n",
      " 8   bike_parking           72638 non-null   object \n",
      " 9   price_range            85314 non-null   object \n",
      " 10  coat_check             5584 non-null    object \n",
      " 11  take_out               59857 non-null   object \n",
      " 12  delivery               56282 non-null   object \n",
      " 13  caters                 40127 non-null   object \n",
      " 14  wi_fi                  56914 non-null   object \n",
      " 15  garage                 86885 non-null   object \n",
      " 16  street                 85474 non-null   object \n",
      " 17  validated              86654 non-null   object \n",
      " 18  lot                    86516 non-null   object \n",
      " 19  valet                  88795 non-null   object \n",
      " 20  wheelchair_accessible  28953 non-null   object \n",
      " 21  happy_hour             15171 non-null   object \n",
      " 22  outdoor_seating        48802 non-null   object \n",
      " 23  has_tv                 45084 non-null   object \n",
      " 24  reservations           45247 non-null   object \n",
      " 25  dogs_allowed           18284 non-null   object \n",
      " 26  sunday                 81172 non-null   object \n",
      " 27  alcohol                43189 non-null   object \n",
      " 28  good_for_kids          53375 non-null   object \n",
      " 29  parking                0 non-null       float64\n",
      " 30  attire                 39255 non-null   object \n",
      " 31  ambience               44279 non-null   object \n",
      " 32  table_service          19982 non-null   object \n",
      " 33  good_for_groups        44170 non-null   object \n",
      " 34  drive_thru             7760 non-null    object \n",
      " 35  attributes             0 non-null       float64\n",
      " 36  noise_level            37993 non-null   object \n",
      " 37  good_for_meal          29087 non-null   object \n",
      " 38  accepts_bitcoin        17430 non-null   object \n",
      " 39  smoking                4567 non-null    object \n",
      " 40  music                  7521 non-null    object \n",
      " 41  good_for_dancing       4628 non-null    object \n",
      " 42  accepts_insurance      5713 non-null    object \n",
      " 43  best_nights            5694 non-null    object \n",
      " 44  b_yo_b                 4451 non-null    object \n",
      " 45  corkage                3553 non-null    object \n",
      " 46  b_yo_bcorkage          1444 non-null    object \n",
      " 47  hair_specializes_in    1065 non-null    object \n",
      " 48  open24_hours           39 non-null      object \n",
      " 49  counter_service        19 non-null      object \n",
      " 50  ages_allowed           129 non-null     object \n",
      " 51  dietary_restrictions   31 non-null      object \n",
      "dtypes: float64(2), object(50)\n",
      "memory usage: 59.6+ MB\n"
     ]
    }
   ],
   "source": [
    "# Some attribute columns have too many missing values. We will get rid of them and also drop some other columns which we are not interested in.\n",
    "\n",
    "businesses[businesses.columns[13:]].info()"
   ]
  },
  {
   "cell_type": "code",
   "execution_count": 535,
   "metadata": {},
   "outputs": [],
   "source": [
    "businesses.drop(\n",
    "  [\n",
    "    'attributes',\n",
    "    'hair_specializes_in',\n",
    "    'counter_service',\n",
    "    'open24_hours',\n",
    "    'dietary_restrictions',\n",
    "    'accepts_insurance',\n",
    "    'ages_allowed',\n",
    "    'b_yo_bcorkage',\n",
    "    'corkage',\n",
    "    'smoking',\n",
    "    'b_yo_b',\n",
    "    'good_for_dancing',\n",
    "    'coat_check',\n",
    "    'by_appointment_only',\n",
    "    'best_nights',\n",
    "    'music',\n",
    "    'drive_thru',\n",
    "    'accepts_bitcoin',\n",
    "    'dogs_allowed',\n",
    "    'happy_hour',\n",
    "    'wheelchair_accessible',\n",
    "    'good_for_meal',\n",
    "    'ambience',\n",
    "    'business_parking',\n",
    "    'address',\n",
    "    'postal_code',\n",
    "    'hours',\n",
    "    'is_open',\n",
    "    'monday',\n",
    "    'tuesday',\n",
    "    'wednesday',\n",
    "    'thursday',\n",
    "    'friday',\n",
    "    'saturday',\n",
    "    'sunday',\n",
    "    'latitude',\n",
    "    'longitude'\n",
    "  ],\n",
    "  axis=1, errors='ignore', inplace=True)"
   ]
  },
  {
   "cell_type": "code",
   "execution_count": 536,
   "metadata": {},
   "outputs": [],
   "source": [
    "# Remove u'...' prefix from values\n",
    "\n",
    "businesses[['alcohol', 'noise_level', 'attire', 'wi_fi']] = businesses[['alcohol', 'noise_level', 'attire', 'wi_fi']].apply(lambda x: x.str.strip(\"u'\"), axis=0)"
   ]
  },
  {
   "cell_type": "code",
   "execution_count": 537,
   "metadata": {},
   "outputs": [],
   "source": [
    "# Parking availability has different categories which are stored in separate columns.\n",
    "# Instead we want to create a new column that summarizes wheather parking is available or not in general.\n",
    "\n",
    "def check_parking(row):\n",
    "    if True in row.values:\n",
    "        return 'True'\n",
    "    elif False in row.values:\n",
    "        return 'False'\n",
    "    else:\n",
    "        return np.nan\n",
    "    \n",
    "businesses['parking'] = businesses[['garage', 'street', 'validated', 'lot', 'valet']].apply(check_parking, axis=1)\n",
    "\n",
    "businesses.drop(['garage', 'street','validated','lot','valet'], axis=1, inplace=True)"
   ]
  },
  {
   "cell_type": "markdown",
   "metadata": {},
   "source": [
    "### Some basic EDA"
   ]
  },
  {
   "cell_type": "code",
   "execution_count": 538,
   "metadata": {},
   "outputs": [],
   "source": [
    "# What are the top 20 business categories used by businesses in the data set?\n",
    "\n",
    "from collections import Counter\n",
    "\n",
    "businesses_categories = []\n",
    "\n",
    "for labels in businesses['categories'].str.split(', '):\n",
    "    if labels is not None:\n",
    "        for label in labels:\n",
    "            businesses_categories.append(label)\n",
    "\n",
    "top_20_categories = Counter(businesses_categories).most_common(20)"
   ]
  },
  {
   "cell_type": "code",
   "execution_count": 539,
   "metadata": {},
   "outputs": [],
   "source": [
    "import matplotlib.pyplot as plt"
   ]
  },
  {
   "cell_type": "code",
   "execution_count": 540,
   "metadata": {},
   "outputs": [
    {
     "data": {
      "image/png": "[encoded data removed]",
      "text/plain": [
       "<Figure size 640x480 with 1 Axes>"
      ]
     },
     "metadata": {},
     "output_type": "display_data"
    }
   ],
   "source": [
    "x = [i[0] for i in top_20_categories]\n",
    "y = [i[1] for i in top_20_categories]\n",
    "\n",
    "plt.bar(x, y, color='r')\n",
    "plt.title('20 most used business categories')\n",
    "plt.xticks(rotation=90)\n",
    "plt.gca().spines[['right', 'top']].set_visible(False)\n",
    "plt.tick_params(axis='both', length=0.0)\n",
    "plt.show();"
   ]
  },
  {
   "cell_type": "code",
   "execution_count": 541,
   "metadata": {},
   "outputs": [],
   "source": [
    "# 'Restaurants' is the biggest group. Let's focus on them for further analysis.\n",
    "\n",
    "def get_restaurants(row):\n",
    "    if 'Restaurants' in row:\n",
    "        return True"
   ]
  },
  {
   "cell_type": "code",
   "execution_count": 542,
   "metadata": {},
   "outputs": [],
   "source": [
    "businesses.dropna(subset='categories', inplace=True)\n",
    "restaurants = businesses[businesses['categories'].apply(get_restaurants) == True]"
   ]
  },
  {
   "cell_type": "code",
   "execution_count": 543,
   "metadata": {},
   "outputs": [],
   "source": [
    "restaurants.reset_index(drop=True, inplace=True)"
   ]
  },
  {
   "cell_type": "code",
   "execution_count": 544,
   "metadata": {},
   "outputs": [
    {
     "data": {
      "text/plain": [
       "3.5"
      ]
     },
     "execution_count": 544,
     "metadata": {},
     "output_type": "execute_result"
    }
   ],
   "source": [
    "restaurants['stars'].describe().iloc[5]"
   ]
  },
  {
   "cell_type": "code",
   "execution_count": 545,
   "metadata": {},
   "outputs": [
    {
     "data": {
      "image/png": "[encoded data removed]",
      "text/plain": [
       "<Figure size 640x480 with 1 Axes>"
      ]
     },
     "metadata": {},
     "output_type": "display_data"
    }
   ],
   "source": [
    "# What is the distrbution of star ratings? What is the median?\n",
    "\n",
    "from matplotlib.ticker import PercentFormatter\n",
    "\n",
    "stars = restaurants['stars'].value_counts().sort_index()\n",
    "\n",
    "plt.bar(stars.index, stars.values, color='r', width=0.4)\n",
    "plt.axvline(restaurants['stars'].describe().iloc[5], color='dodgerblue', linestyle='--', label='Median')\n",
    "plt.title('Distribution of star ratings for restaurants in %')\n",
    "plt.gca().spines[['right', 'top']].set_visible(False)\n",
    "plt.gca().yaxis.set_major_formatter(PercentFormatter(stars.values.sum()))\n",
    "plt.xticks(np.linspace(1, 5, 9))\n",
    "plt.gca().spines[['right', 'top']].set_visible(False)\n",
    "plt.tick_params(axis='both', length=0.0)\n",
    "plt.legend()\n",
    "plt.show();\n"
   ]
  },
  {
   "cell_type": "markdown",
   "metadata": {},
   "source": [
    "### Prediction of star ratings\n",
    "\n",
    "There are still several rows with missing values, which can't be handled by Scitkit-learn's models. We can drop all of those rows first."
   ]
  },
  {
   "cell_type": "code",
   "execution_count": 546,
   "metadata": {},
   "outputs": [],
   "source": [
    "# In addition, columns with multiple features like 'price_range' contain 'None' values that can't be interpreted in a senseful way.\n",
    "# Also, the 'None's are string objects which need to be converted to NaN values first and afterwards dropped with the other rows.\n",
    "\n",
    "cols = ['price_range', 'attire', 'wi_fi', 'noise_level', 'alcohol']  # Columns with multiple features\n",
    "\n",
    "for label in cols:\n",
    "    restaurants.loc[restaurants[label] == 'None', label] = np.nan\n",
    "\n",
    "restaurants = restaurants[restaurants[restaurants.columns[7:]].isna().any(axis=1) == False]"
   ]
  },
  {
   "cell_type": "code",
   "execution_count": 547,
   "metadata": {},
   "outputs": [],
   "source": [
    "# Columns with binary features also contain 'None' and 'none' values. In this case we can interprete them as False and replace them with False.\n",
    "\n",
    "restaurants = restaurants.replace(['none', 'None'], ['False', 'False'])"
   ]
  },
  {
   "cell_type": "code",
   "execution_count": 548,
   "metadata": {},
   "outputs": [
    {
     "name": "stdout",
     "output_type": "stream",
     "text": [
      "['False' 'True'] [1 1 1 ... 1 1 1]\n",
      "{'False': 0, 'True': 1}\n",
      "['False' 'True'] [1 1 1 ... 0 1 1]\n",
      "{'False': 0, 'True': 1}\n",
      "['1' '2' '3' '4'] [0 0 1 ... 2 1 2]\n",
      "{'1': 0, '2': 1, '3': 2, '4': 3}\n",
      "['False' 'True'] [1 1 1 ... 1 1 0]\n",
      "{'False': 0, 'True': 1}\n",
      "['False' 'True'] [1 0 1 ... 1 1 0]\n",
      "{'False': 0, 'True': 1}\n",
      "['False' 'True'] [1 1 1 ... 1 0 0]\n",
      "{'False': 0, 'True': 1}\n",
      "['free' 'no' 'paid'] [1 1 0 ... 0 0 0]\n",
      "{'free': 0, 'no': 1, 'paid': 2}\n",
      "['False' 'True'] [0 0 1 ... 0 1 0]\n",
      "{'False': 0, 'True': 1}\n",
      "['False' 'True'] [1 1 1 ... 1 1 1]\n",
      "{'False': 0, 'True': 1}\n",
      "['False' 'True'] [0 0 1 ... 1 0 1]\n",
      "{'False': 0, 'True': 1}\n",
      "['False' 'beer_and_wine' 'full_bar'] [0 0 2 ... 2 1 2]\n",
      "{'False': 0, 'beer_and_wine': 1, 'full_bar': 2}\n",
      "['False' 'True'] [1 1 1 ... 1 1 1]\n",
      "{'False': 0, 'True': 1}\n",
      "['False' 'True'] [1 1 1 ... 1 1 1]\n",
      "{'False': 0, 'True': 1}\n",
      "['casual' 'dressy' 'formal'] [0 0 0 ... 0 0 1]\n",
      "{'casual': 0, 'dressy': 1, 'formal': 2}\n",
      "['False' 'True'] [0 1 1 ... 1 0 1]\n",
      "{'False': 0, 'True': 1}\n",
      "['False' 'True'] [0 0 1 ... 1 1 1]\n",
      "{'False': 0, 'True': 1}\n",
      "['average' 'loud' 'quiet' 'very_loud'] [0 2 0 ... 3 0 0]\n",
      "{'average': 0, 'loud': 1, 'quiet': 2, 'very_loud': 3}\n"
     ]
    }
   ],
   "source": [
    "# https://medium.com/@sujathamudadla1213/target-guided-ordinal-encoding-with-example-450323fea78e  # Target encoding -> Cardinal features, ordinal target\n",
    "\n",
    "from sklearn.preprocessing import LabelEncoder\n",
    "\n",
    "cols = ['accepts_credit_cards', 'bike_parking', 'price_range',\n",
    "       'take_out', 'delivery', 'caters', 'wi_fi', 'outdoor_seating', 'has_tv',\n",
    "       'reservations', 'alcohol', 'good_for_kids', 'parking', 'attire',\n",
    "       'table_service', 'good_for_groups', 'noise_level']\n",
    "\n",
    "for col in cols:\n",
    "    le = LabelEncoder()\n",
    "    le.fit(restaurants[col])\n",
    "    print(le.classes_, le.transform(restaurants[col]))\n",
    "    restaurants[col] = le.transform(restaurants[col])\n",
    "    le_name_mapping = dict(zip(le.classes_, le.transform(le.classes_)))\n",
    "    print(le_name_mapping)"
   ]
  },
  {
   "cell_type": "code",
   "execution_count": 549,
   "metadata": {},
   "outputs": [],
   "source": [
    "# restaurants['alcohol'].replace(['False', 'beer_and_wine', 'full_bar'], [0, 1, 2], inplace=True)\n",
    "# restaurants['attire'].replace(['casual', 'dressy', 'formal'], [0, 1, 2], inplace=True)\n",
    "# restaurants['wi_fi'].replace(['no', 'paid', 'free'], [0, 1, 2], inplace=True)\n",
    "# restaurants['noise_level'].replace(['quiet', 'average', 'loud', 'very_loud'], [0, 1, 2, 3], inplace=True)"
   ]
  },
  {
   "cell_type": "code",
   "execution_count": 550,
   "metadata": {},
   "outputs": [],
   "source": [
    "# cols = [\n",
    "#     'accepts_credit_cards',\n",
    "#     'bike_parking', 'take_out', 'delivery', 'caters',\n",
    "#     'outdoor_seating', 'has_tv', 'reservations',\n",
    "#     'good_for_kids', 'parking', 'table_service',\n",
    "#     'good_for_groups']\n",
    "\n",
    "# for label in cols:\n",
    "#     restaurants[label] = (restaurants[label] == 'True').astype(int)  # Encodes True as 1, False as 0"
   ]
  },
  {
   "cell_type": "code",
   "execution_count": 517,
   "metadata": {},
   "outputs": [],
   "source": [
    "# restaurants['price_range'] = restaurants['price_range'].astype(int)\n",
    "# restaurants['stars'] = restaurants['stars'].astype(int)"
   ]
  },
  {
   "cell_type": "code",
   "execution_count": 551,
   "metadata": {},
   "outputs": [
    {
     "data": {
      "text/plain": [
       "dtype('float64')"
      ]
     },
     "execution_count": 551,
     "metadata": {},
     "output_type": "execute_result"
    }
   ],
   "source": [
    "restaurants['stars'].dtype"
   ]
  },
  {
   "cell_type": "code",
   "execution_count": 552,
   "metadata": {},
   "outputs": [
    {
     "name": "stderr",
     "output_type": "stream",
     "text": [
      "/Library/Frameworks/Python.framework/Versions/3.11/lib/python3.11/site-packages/numpy/core/fromnumeric.py:59: FutureWarning: 'DataFrame.swapaxes' is deprecated and will be removed in a future version. Please use 'DataFrame.transpose' instead.\n",
      "  return bound(*args, **kwds)\n"
     ]
    }
   ],
   "source": [
    "train, valid, test = np.split(restaurants.sample(frac=1), [int(0.6*len(restaurants)), int(0.8*len(restaurants))])"
   ]
  },
  {
   "cell_type": "code",
   "execution_count": 553,
   "metadata": {},
   "outputs": [],
   "source": [
    "def split_X_y(dataframe, oversample=False):\n",
    "    X = dataframe[dataframe.columns[7:]].values\n",
    "    y = dataframe['stars'].values\n",
    "\n",
    "    # if oversample:\n",
    "    #     ros = RandomOverSampler()\n",
    "    #     X, y = ros.fit_resample(X, y)\n",
    "\n",
    "    return X, y"
   ]
  },
  {
   "cell_type": "code",
   "execution_count": 554,
   "metadata": {},
   "outputs": [],
   "source": [
    "X_train, y_train = split_X_y(train, oversample=False)\n",
    "X_test, y_test = split_X_y(test, oversample=False)"
   ]
  },
  {
   "cell_type": "code",
   "execution_count": 555,
   "metadata": {},
   "outputs": [],
   "source": [
    "from sklearn.linear_model import LogisticRegression"
   ]
  },
  {
   "cell_type": "code",
   "execution_count": 556,
   "metadata": {},
   "outputs": [
    {
     "ename": "ValueError",
     "evalue": "Unknown label type: continuous. Maybe you are trying to fit a classifier, which expects discrete classes on a regression target with continuous values.",
     "output_type": "error",
     "traceback": [
      "\u001b[0;31m---------------------------------------------------------------------------\u001b[0m",
      "\u001b[0;31mValueError\u001b[0m                                Traceback (most recent call last)",
      "Cell \u001b[0;32mIn[556], line 2\u001b[0m\n\u001b[1;32m      1\u001b[0m lg_model \u001b[38;5;241m=\u001b[39m LogisticRegression(multi_class\u001b[38;5;241m=\u001b[39m\u001b[38;5;124m'\u001b[39m\u001b[38;5;124mmultinomial\u001b[39m\u001b[38;5;124m'\u001b[39m)\n\u001b[0;32m----> 2\u001b[0m \u001b[43mlg_model\u001b[49m\u001b[38;5;241;43m.\u001b[39;49m\u001b[43mfit\u001b[49m\u001b[43m(\u001b[49m\u001b[43mX_train\u001b[49m\u001b[43m,\u001b[49m\u001b[43m \u001b[49m\u001b[43my_train\u001b[49m\u001b[43m)\u001b[49m\n",
      "File \u001b[0;32m/Library/Frameworks/Python.framework/Versions/3.11/lib/python3.11/site-packages/sklearn/base.py:1152\u001b[0m, in \u001b[0;36m_fit_context.<locals>.decorator.<locals>.wrapper\u001b[0;34m(estimator, *args, **kwargs)\u001b[0m\n\u001b[1;32m   1145\u001b[0m     estimator\u001b[38;5;241m.\u001b[39m_validate_params()\n\u001b[1;32m   1147\u001b[0m \u001b[38;5;28;01mwith\u001b[39;00m config_context(\n\u001b[1;32m   1148\u001b[0m     skip_parameter_validation\u001b[38;5;241m=\u001b[39m(\n\u001b[1;32m   1149\u001b[0m         prefer_skip_nested_validation \u001b[38;5;129;01mor\u001b[39;00m global_skip_validation\n\u001b[1;32m   1150\u001b[0m     )\n\u001b[1;32m   1151\u001b[0m ):\n\u001b[0;32m-> 1152\u001b[0m     \u001b[38;5;28;01mreturn\u001b[39;00m \u001b[43mfit_method\u001b[49m\u001b[43m(\u001b[49m\u001b[43mestimator\u001b[49m\u001b[43m,\u001b[49m\u001b[43m \u001b[49m\u001b[38;5;241;43m*\u001b[39;49m\u001b[43margs\u001b[49m\u001b[43m,\u001b[49m\u001b[43m \u001b[49m\u001b[38;5;241;43m*\u001b[39;49m\u001b[38;5;241;43m*\u001b[39;49m\u001b[43mkwargs\u001b[49m\u001b[43m)\u001b[49m\n",
      "File \u001b[0;32m/Library/Frameworks/Python.framework/Versions/3.11/lib/python3.11/site-packages/sklearn/linear_model/_logistic.py:1216\u001b[0m, in \u001b[0;36mLogisticRegression.fit\u001b[0;34m(self, X, y, sample_weight)\u001b[0m\n\u001b[1;32m   1206\u001b[0m     _dtype \u001b[38;5;241m=\u001b[39m [np\u001b[38;5;241m.\u001b[39mfloat64, np\u001b[38;5;241m.\u001b[39mfloat32]\n\u001b[1;32m   1208\u001b[0m X, y \u001b[38;5;241m=\u001b[39m \u001b[38;5;28mself\u001b[39m\u001b[38;5;241m.\u001b[39m_validate_data(\n\u001b[1;32m   1209\u001b[0m     X,\n\u001b[1;32m   1210\u001b[0m     y,\n\u001b[0;32m   (...)\u001b[0m\n\u001b[1;32m   1214\u001b[0m     accept_large_sparse\u001b[38;5;241m=\u001b[39msolver \u001b[38;5;129;01mnot\u001b[39;00m \u001b[38;5;129;01min\u001b[39;00m [\u001b[38;5;124m\"\u001b[39m\u001b[38;5;124mliblinear\u001b[39m\u001b[38;5;124m\"\u001b[39m, \u001b[38;5;124m\"\u001b[39m\u001b[38;5;124msag\u001b[39m\u001b[38;5;124m\"\u001b[39m, \u001b[38;5;124m\"\u001b[39m\u001b[38;5;124msaga\u001b[39m\u001b[38;5;124m\"\u001b[39m],\n\u001b[1;32m   1215\u001b[0m )\n\u001b[0;32m-> 1216\u001b[0m \u001b[43mcheck_classification_targets\u001b[49m\u001b[43m(\u001b[49m\u001b[43my\u001b[49m\u001b[43m)\u001b[49m\n\u001b[1;32m   1217\u001b[0m \u001b[38;5;28mself\u001b[39m\u001b[38;5;241m.\u001b[39mclasses_ \u001b[38;5;241m=\u001b[39m np\u001b[38;5;241m.\u001b[39munique(y)\n\u001b[1;32m   1219\u001b[0m multi_class \u001b[38;5;241m=\u001b[39m _check_multi_class(\u001b[38;5;28mself\u001b[39m\u001b[38;5;241m.\u001b[39mmulti_class, solver, \u001b[38;5;28mlen\u001b[39m(\u001b[38;5;28mself\u001b[39m\u001b[38;5;241m.\u001b[39mclasses_))\n",
      "File \u001b[0;32m/Library/Frameworks/Python.framework/Versions/3.11/lib/python3.11/site-packages/sklearn/utils/multiclass.py:216\u001b[0m, in \u001b[0;36mcheck_classification_targets\u001b[0;34m(y)\u001b[0m\n\u001b[1;32m    208\u001b[0m y_type \u001b[38;5;241m=\u001b[39m type_of_target(y, input_name\u001b[38;5;241m=\u001b[39m\u001b[38;5;124m\"\u001b[39m\u001b[38;5;124my\u001b[39m\u001b[38;5;124m\"\u001b[39m)\n\u001b[1;32m    209\u001b[0m \u001b[38;5;28;01mif\u001b[39;00m y_type \u001b[38;5;129;01mnot\u001b[39;00m \u001b[38;5;129;01min\u001b[39;00m [\n\u001b[1;32m    210\u001b[0m     \u001b[38;5;124m\"\u001b[39m\u001b[38;5;124mbinary\u001b[39m\u001b[38;5;124m\"\u001b[39m,\n\u001b[1;32m    211\u001b[0m     \u001b[38;5;124m\"\u001b[39m\u001b[38;5;124mmulticlass\u001b[39m\u001b[38;5;124m\"\u001b[39m,\n\u001b[0;32m   (...)\u001b[0m\n\u001b[1;32m    214\u001b[0m     \u001b[38;5;124m\"\u001b[39m\u001b[38;5;124mmultilabel-sequences\u001b[39m\u001b[38;5;124m\"\u001b[39m,\n\u001b[1;32m    215\u001b[0m ]:\n\u001b[0;32m--> 216\u001b[0m     \u001b[38;5;28;01mraise\u001b[39;00m \u001b[38;5;167;01mValueError\u001b[39;00m(\n\u001b[1;32m    217\u001b[0m         \u001b[38;5;124mf\u001b[39m\u001b[38;5;124m\"\u001b[39m\u001b[38;5;124mUnknown label type: \u001b[39m\u001b[38;5;132;01m{\u001b[39;00my_type\u001b[38;5;132;01m}\u001b[39;00m\u001b[38;5;124m. Maybe you are trying to fit a \u001b[39m\u001b[38;5;124m\"\u001b[39m\n\u001b[1;32m    218\u001b[0m         \u001b[38;5;124m\"\u001b[39m\u001b[38;5;124mclassifier, which expects discrete classes on a \u001b[39m\u001b[38;5;124m\"\u001b[39m\n\u001b[1;32m    219\u001b[0m         \u001b[38;5;124m\"\u001b[39m\u001b[38;5;124mregression target with continuous values.\u001b[39m\u001b[38;5;124m\"\u001b[39m\n\u001b[1;32m    220\u001b[0m     )\n",
      "\u001b[0;31mValueError\u001b[0m: Unknown label type: continuous. Maybe you are trying to fit a classifier, which expects discrete classes on a regression target with continuous values."
     ]
    }
   ],
   "source": [
    "lg_model = LogisticRegression(multi_class='multinomial')\n",
    "lg_model.fit(X_train, y_train)"
   ]
  },
  {
   "cell_type": "code",
   "execution_count": 474,
   "metadata": {},
   "outputs": [],
   "source": [
    "y_pred  = lg_model.predict(X_test)"
   ]
  },
  {
   "cell_type": "code",
   "execution_count": 475,
   "metadata": {},
   "outputs": [
    {
     "name": "stdout",
     "output_type": "stream",
     "text": [
      "              precision    recall  f1-score   support\n",
      "\n",
      "           1       0.00      0.00      0.00        17\n",
      "           2       0.50      0.10      0.17       191\n",
      "           3       0.51      0.26      0.34       859\n",
      "           4       0.59      0.88      0.71      1291\n",
      "           5       0.00      0.00      0.00        26\n",
      "\n",
      "    accuracy                           0.58      2384\n",
      "   macro avg       0.32      0.25      0.24      2384\n",
      "weighted avg       0.55      0.58      0.52      2384\n",
      "\n"
     ]
    },
    {
     "name": "stderr",
     "output_type": "stream",
     "text": [
      "/Library/Frameworks/Python.framework/Versions/3.11/lib/python3.11/site-packages/sklearn/metrics/_classification.py:1471: UndefinedMetricWarning: Precision and F-score are ill-defined and being set to 0.0 in labels with no predicted samples. Use `zero_division` parameter to control this behavior.\n",
      "  _warn_prf(average, modifier, msg_start, len(result))\n",
      "/Library/Frameworks/Python.framework/Versions/3.11/lib/python3.11/site-packages/sklearn/metrics/_classification.py:1471: UndefinedMetricWarning: Precision and F-score are ill-defined and being set to 0.0 in labels with no predicted samples. Use `zero_division` parameter to control this behavior.\n",
      "  _warn_prf(average, modifier, msg_start, len(result))\n",
      "/Library/Frameworks/Python.framework/Versions/3.11/lib/python3.11/site-packages/sklearn/metrics/_classification.py:1471: UndefinedMetricWarning: Precision and F-score are ill-defined and being set to 0.0 in labels with no predicted samples. Use `zero_division` parameter to control this behavior.\n",
      "  _warn_prf(average, modifier, msg_start, len(result))\n"
     ]
    }
   ],
   "source": [
    "print(classification_report(y_test, y_pred))"
   ]
  },
  {
   "cell_type": "code",
   "execution_count": 476,
   "metadata": {},
   "outputs": [],
   "source": [
    "from sklearn.neighbors import KNeighborsClassifier"
   ]
  },
  {
   "cell_type": "code",
   "execution_count": 478,
   "metadata": {},
   "outputs": [
    {
     "data": {
      "text/html": [
       "<style>#sk-container-id-14 {color: black;}#sk-container-id-14 pre{padding: 0;}#sk-container-id-14 div.sk-toggleable {background-color: white;}#sk-container-id-14 label.sk-toggleable__label {cursor: pointer;display: block;width: 100%;margin-bottom: 0;padding: 0.3em;box-sizing: border-box;text-align: center;}#sk-container-id-14 label.sk-toggleable__label-arrow:before {content: \"▸\";float: left;margin-right: 0.25em;color: #696969;}#sk-container-id-14 label.sk-toggleable__label-arrow:hover:before {color: black;}#sk-container-id-14 div.sk-estimator:hover label.sk-toggleable__label-arrow:before {color: black;}#sk-container-id-14 div.sk-toggleable__content {max-height: 0;max-width: 0;overflow: hidden;text-align: left;background-color: #f0f8ff;}#sk-container-id-14 div.sk-toggleable__content pre {margin: 0.2em;color: black;border-radius: 0.25em;background-color: #f0f8ff;}#sk-container-id-14 input.sk-toggleable__control:checked~div.sk-toggleable__content {max-height: 200px;max-width: 100%;overflow: auto;}#sk-container-id-14 input.sk-toggleable__control:checked~label.sk-toggleable__label-arrow:before {content: \"▾\";}#sk-container-id-14 div.sk-estimator input.sk-toggleable__control:checked~label.sk-toggleable__label {background-color: #d4ebff;}#sk-container-id-14 div.sk-label input.sk-toggleable__control:checked~label.sk-toggleable__label {background-color: #d4ebff;}#sk-container-id-14 input.sk-hidden--visually {border: 0;clip: rect(1px 1px 1px 1px);clip: rect(1px, 1px, 1px, 1px);height: 1px;margin: -1px;overflow: hidden;padding: 0;position: absolute;width: 1px;}#sk-container-id-14 div.sk-estimator {font-family: monospace;background-color: #f0f8ff;border: 1px dotted black;border-radius: 0.25em;box-sizing: border-box;margin-bottom: 0.5em;}#sk-container-id-14 div.sk-estimator:hover {background-color: #d4ebff;}#sk-container-id-14 div.sk-parallel-item::after {content: \"\";width: 100%;border-bottom: 1px solid gray;flex-grow: 1;}#sk-container-id-14 div.sk-label:hover label.sk-toggleable__label {background-color: #d4ebff;}#sk-container-id-14 div.sk-serial::before {content: \"\";position: absolute;border-left: 1px solid gray;box-sizing: border-box;top: 0;bottom: 0;left: 50%;z-index: 0;}#sk-container-id-14 div.sk-serial {display: flex;flex-direction: column;align-items: center;background-color: white;padding-right: 0.2em;padding-left: 0.2em;position: relative;}#sk-container-id-14 div.sk-item {position: relative;z-index: 1;}#sk-container-id-14 div.sk-parallel {display: flex;align-items: stretch;justify-content: center;background-color: white;position: relative;}#sk-container-id-14 div.sk-item::before, #sk-container-id-14 div.sk-parallel-item::before {content: \"\";position: absolute;border-left: 1px solid gray;box-sizing: border-box;top: 0;bottom: 0;left: 50%;z-index: -1;}#sk-container-id-14 div.sk-parallel-item {display: flex;flex-direction: column;z-index: 1;position: relative;background-color: white;}#sk-container-id-14 div.sk-parallel-item:first-child::after {align-self: flex-end;width: 50%;}#sk-container-id-14 div.sk-parallel-item:last-child::after {align-self: flex-start;width: 50%;}#sk-container-id-14 div.sk-parallel-item:only-child::after {width: 0;}#sk-container-id-14 div.sk-dashed-wrapped {border: 1px dashed gray;margin: 0 0.4em 0.5em 0.4em;box-sizing: border-box;padding-bottom: 0.4em;background-color: white;}#sk-container-id-14 div.sk-label label {font-family: monospace;font-weight: bold;display: inline-block;line-height: 1.2em;}#sk-container-id-14 div.sk-label-container {text-align: center;}#sk-container-id-14 div.sk-container {/* jupyter's `normalize.less` sets `[hidden] { display: none; }` but bootstrap.min.css set `[hidden] { display: none !important; }` so we also need the `!important` here to be able to override the default hidden behavior on the sphinx rendered scikit-learn.org. See: https://github.com/scikit-learn/scikit-learn/issues/21755 */display: inline-block !important;position: relative;}#sk-container-id-14 div.sk-text-repr-fallback {display: none;}</style><div id=\"sk-container-id-14\" class=\"sk-top-container\"><div class=\"sk-text-repr-fallback\"><pre>KNeighborsClassifier()</pre><b>In a Jupyter environment, please rerun this cell to show the HTML representation or trust the notebook. <br />On GitHub, the HTML representation is unable to render, please try loading this page with nbviewer.org.</b></div><div class=\"sk-container\" hidden><div class=\"sk-item\"><div class=\"sk-estimator sk-toggleable\"><input class=\"sk-toggleable__control sk-hidden--visually\" id=\"sk-estimator-id-14\" type=\"checkbox\" checked><label for=\"sk-estimator-id-14\" class=\"sk-toggleable__label sk-toggleable__label-arrow\">KNeighborsClassifier</label><div class=\"sk-toggleable__content\"><pre>KNeighborsClassifier()</pre></div></div></div></div></div>"
      ],
      "text/plain": [
       "KNeighborsClassifier()"
      ]
     },
     "execution_count": 478,
     "metadata": {},
     "output_type": "execute_result"
    }
   ],
   "source": [
    "neigh = KNeighborsClassifier()\n",
    "neigh.fit(X_train, y_train)"
   ]
  },
  {
   "cell_type": "code",
   "execution_count": 479,
   "metadata": {},
   "outputs": [],
   "source": [
    "y_pred = neigh.predict(X_test)"
   ]
  },
  {
   "cell_type": "code",
   "execution_count": 480,
   "metadata": {},
   "outputs": [
    {
     "name": "stdout",
     "output_type": "stream",
     "text": [
      "              precision    recall  f1-score   support\n",
      "\n",
      "           1       0.17      0.06      0.09        17\n",
      "           2       0.35      0.29      0.32       191\n",
      "           3       0.43      0.44      0.43       859\n",
      "           4       0.62      0.64      0.63      1291\n",
      "           5       0.00      0.00      0.00        26\n",
      "\n",
      "    accuracy                           0.53      2384\n",
      "   macro avg       0.31      0.29      0.29      2384\n",
      "weighted avg       0.52      0.53      0.52      2384\n",
      "\n"
     ]
    },
    {
     "name": "stderr",
     "output_type": "stream",
     "text": [
      "/Library/Frameworks/Python.framework/Versions/3.11/lib/python3.11/site-packages/sklearn/metrics/_classification.py:1471: UndefinedMetricWarning: Precision and F-score are ill-defined and being set to 0.0 in labels with no predicted samples. Use `zero_division` parameter to control this behavior.\n",
      "  _warn_prf(average, modifier, msg_start, len(result))\n",
      "/Library/Frameworks/Python.framework/Versions/3.11/lib/python3.11/site-packages/sklearn/metrics/_classification.py:1471: UndefinedMetricWarning: Precision and F-score are ill-defined and being set to 0.0 in labels with no predicted samples. Use `zero_division` parameter to control this behavior.\n",
      "  _warn_prf(average, modifier, msg_start, len(result))\n",
      "/Library/Frameworks/Python.framework/Versions/3.11/lib/python3.11/site-packages/sklearn/metrics/_classification.py:1471: UndefinedMetricWarning: Precision and F-score are ill-defined and being set to 0.0 in labels with no predicted samples. Use `zero_division` parameter to control this behavior.\n",
      "  _warn_prf(average, modifier, msg_start, len(result))\n"
     ]
    }
   ],
   "source": [
    "print(classification_report(y_test, y_pred))"
   ]
  },
  {
   "cell_type": "code",
   "execution_count": 481,
   "metadata": {},
   "outputs": [
    {
     "name": "stderr",
     "output_type": "stream",
     "text": [
      "2024-01-18 17:52:43.128592: I tensorflow/core/platform/cpu_feature_guard.cc:182] This TensorFlow binary is optimized to use available CPU instructions in performance-critical operations.\n",
      "To enable the following instructions: AVX2 AVX512F AVX512_VNNI FMA, in other operations, rebuild TensorFlow with the appropriate compiler flags.\n"
     ]
    }
   ],
   "source": [
    "import tensorflow as tf"
   ]
  },
  {
   "cell_type": "code",
   "execution_count": 482,
   "metadata": {},
   "outputs": [],
   "source": [
    "nn_model = tf.keras.Sequential([\n",
    "    tf.keras.layers.Dense(32, activation= 'relu', input_shape=(17,)),\n",
    "    tf.keras.layers.Dense(32, activation= 'relu'),\n",
    "    tf.keras.layers.Dense(1, activation='sigmoid')\n",
    "])\n",
    "\n",
    "nn_model.compile(\n",
    "    optimizer=tf.keras.optimizers.Adam(0.001),\n",
    "    loss='binary_crossentropy',\n",
    "    metrics=['accuracy']\n",
    ")"
   ]
  },
  {
   "cell_type": "code",
   "execution_count": 483,
   "metadata": {},
   "outputs": [
    {
     "name": "stdout",
     "output_type": "stream",
     "text": [
      "Epoch 1/100\n",
      "179/179 [==============================] - 2s 4ms/step - loss: -161.2111 - accuracy: 0.0075 - val_loss: -641.2247 - val_accuracy: 0.0077\n",
      "Epoch 2/100\n",
      "179/179 [==============================] - 0s 3ms/step - loss: -2514.6519 - accuracy: 0.0075 - val_loss: -5550.2183 - val_accuracy: 0.0077\n",
      "Epoch 3/100\n",
      "179/179 [==============================] - 1s 3ms/step - loss: -11263.5596 - accuracy: 0.0075 - val_loss: -18927.1289 - val_accuracy: 0.0077\n",
      "Epoch 4/100\n",
      "179/179 [==============================] - 0s 3ms/step - loss: -30151.4336 - accuracy: 0.0075 - val_loss: -44215.6094 - val_accuracy: 0.0077\n",
      "Epoch 5/100\n",
      "179/179 [==============================] - 1s 3ms/step - loss: -62592.0234 - accuracy: 0.0075 - val_loss: -84797.0625 - val_accuracy: 0.0077\n",
      "Epoch 6/100\n",
      "179/179 [==============================] - 1s 3ms/step - loss: -111438.4531 - accuracy: 0.0075 - val_loss: -143048.3750 - val_accuracy: 0.0077\n",
      "Epoch 7/100\n",
      "179/179 [==============================] - 1s 3ms/step - loss: -178755.0781 - accuracy: 0.0075 - val_loss: -220641.3125 - val_accuracy: 0.0077\n",
      "Epoch 8/100\n",
      "179/179 [==============================] - 1s 3ms/step - loss: -266268.6250 - accuracy: 0.0075 - val_loss: -319422.0625 - val_accuracy: 0.0077\n",
      "Epoch 9/100\n",
      "179/179 [==============================] - 1s 3ms/step - loss: -375298.4062 - accuracy: 0.0075 - val_loss: -440539.7812 - val_accuracy: 0.0077\n",
      "Epoch 10/100\n",
      "179/179 [==============================] - 1s 3ms/step - loss: -507119.1875 - accuracy: 0.0075 - val_loss: -585164.1250 - val_accuracy: 0.0077\n",
      "Epoch 11/100\n",
      "179/179 [==============================] - 1s 6ms/step - loss: -662906.6250 - accuracy: 0.0075 - val_loss: -754497.8125 - val_accuracy: 0.0077\n",
      "Epoch 12/100\n",
      "179/179 [==============================] - 1s 3ms/step - loss: -843662.2500 - accuracy: 0.0075 - val_loss: -949284.6875 - val_accuracy: 0.0077\n",
      "Epoch 13/100\n",
      "179/179 [==============================] - 1s 3ms/step - loss: -1050145.3750 - accuracy: 0.0075 - val_loss: -1170180.7500 - val_accuracy: 0.0077\n",
      "Epoch 14/100\n",
      "179/179 [==============================] - 1s 4ms/step - loss: -1283167.6250 - accuracy: 0.0075 - val_loss: -1418543.1250 - val_accuracy: 0.0077\n",
      "Epoch 15/100\n",
      "179/179 [==============================] - 1s 3ms/step - loss: -1543184.5000 - accuracy: 0.0075 - val_loss: -1693840.8750 - val_accuracy: 0.0077\n",
      "Epoch 16/100\n",
      "179/179 [==============================] - 1s 5ms/step - loss: -1830590.7500 - accuracy: 0.0075 - val_loss: -1997687.0000 - val_accuracy: 0.0077\n",
      "Epoch 17/100\n",
      "179/179 [==============================] - 1s 4ms/step - loss: -2146511.7500 - accuracy: 0.0075 - val_loss: -2329998.5000 - val_accuracy: 0.0077\n",
      "Epoch 18/100\n",
      "179/179 [==============================] - 1s 3ms/step - loss: -2491453.5000 - accuracy: 0.0075 - val_loss: -2691710.5000 - val_accuracy: 0.0077\n",
      "Epoch 19/100\n",
      "179/179 [==============================] - 1s 3ms/step - loss: -2865817.0000 - accuracy: 0.0075 - val_loss: -3083532.7500 - val_accuracy: 0.0077\n",
      "Epoch 20/100\n",
      "179/179 [==============================] - 1s 6ms/step - loss: -3270164.5000 - accuracy: 0.0075 - val_loss: -3505670.7500 - val_accuracy: 0.0077\n",
      "Epoch 21/100\n",
      "179/179 [==============================] - 1s 4ms/step - loss: -3704987.0000 - accuracy: 0.0075 - val_loss: -3958974.7500 - val_accuracy: 0.0077\n",
      "Epoch 22/100\n",
      "179/179 [==============================] - 1s 6ms/step - loss: -4171108.0000 - accuracy: 0.0075 - val_loss: -4443635.0000 - val_accuracy: 0.0077\n",
      "Epoch 23/100\n",
      "179/179 [==============================] - 1s 5ms/step - loss: -4668754.0000 - accuracy: 0.0075 - val_loss: -4961026.5000 - val_accuracy: 0.0077\n",
      "Epoch 24/100\n",
      "179/179 [==============================] - 1s 3ms/step - loss: -5198575.0000 - accuracy: 0.0075 - val_loss: -5510531.5000 - val_accuracy: 0.0077\n",
      "Epoch 25/100\n",
      "179/179 [==============================] - 1s 3ms/step - loss: -5761132.0000 - accuracy: 0.0075 - val_loss: -6093606.5000 - val_accuracy: 0.0077\n",
      "Epoch 26/100\n",
      "179/179 [==============================] - 1s 3ms/step - loss: -6356849.0000 - accuracy: 0.0075 - val_loss: -6709674.5000 - val_accuracy: 0.0077\n",
      "Epoch 27/100\n",
      "179/179 [==============================] - 1s 3ms/step - loss: -6986393.0000 - accuracy: 0.0075 - val_loss: -7360821.0000 - val_accuracy: 0.0077\n",
      "Epoch 28/100\n",
      "179/179 [==============================] - 1s 3ms/step - loss: -7650249.0000 - accuracy: 0.0075 - val_loss: -8046267.0000 - val_accuracy: 0.0077\n",
      "Epoch 29/100\n",
      "179/179 [==============================] - 1s 3ms/step - loss: -8348869.5000 - accuracy: 0.0075 - val_loss: -8766943.0000 - val_accuracy: 0.0077\n",
      "Epoch 30/100\n",
      "179/179 [==============================] - 1s 3ms/step - loss: -9082599.0000 - accuracy: 0.0075 - val_loss: -9523821.0000 - val_accuracy: 0.0077\n",
      "Epoch 31/100\n",
      "179/179 [==============================] - 1s 4ms/step - loss: -9852387.0000 - accuracy: 0.0075 - val_loss: -10316449.0000 - val_accuracy: 0.0077\n",
      "Epoch 32/100\n",
      "179/179 [==============================] - 1s 3ms/step - loss: -10659040.0000 - accuracy: 0.0075 - val_loss: -11146667.0000 - val_accuracy: 0.0077\n",
      "Epoch 33/100\n",
      "179/179 [==============================] - 1s 3ms/step - loss: -11502792.0000 - accuracy: 0.0075 - val_loss: -12015152.0000 - val_accuracy: 0.0077\n",
      "Epoch 34/100\n",
      "179/179 [==============================] - 1s 3ms/step - loss: -12384281.0000 - accuracy: 0.0075 - val_loss: -12921807.0000 - val_accuracy: 0.0077\n",
      "Epoch 35/100\n",
      "179/179 [==============================] - 1s 4ms/step - loss: -13303903.0000 - accuracy: 0.0075 - val_loss: -13865983.0000 - val_accuracy: 0.0077\n",
      "Epoch 36/100\n",
      "179/179 [==============================] - 1s 3ms/step - loss: -14262116.0000 - accuracy: 0.0075 - val_loss: -14850274.0000 - val_accuracy: 0.0077\n",
      "Epoch 37/100\n",
      "179/179 [==============================] - 1s 3ms/step - loss: -15259717.0000 - accuracy: 0.0075 - val_loss: -15875690.0000 - val_accuracy: 0.0077\n",
      "Epoch 38/100\n",
      "179/179 [==============================] - 1s 3ms/step - loss: -16297707.0000 - accuracy: 0.0075 - val_loss: -16939324.0000 - val_accuracy: 0.0077\n",
      "Epoch 39/100\n",
      "179/179 [==============================] - 1s 3ms/step - loss: -17376016.0000 - accuracy: 0.0075 - val_loss: -18045836.0000 - val_accuracy: 0.0077\n",
      "Epoch 40/100\n",
      "179/179 [==============================] - 1s 3ms/step - loss: -18495468.0000 - accuracy: 0.0075 - val_loss: -19194020.0000 - val_accuracy: 0.0077\n",
      "Epoch 41/100\n",
      "179/179 [==============================] - 1s 5ms/step - loss: -19656732.0000 - accuracy: 0.0075 - val_loss: -20383284.0000 - val_accuracy: 0.0077\n",
      "Epoch 42/100\n",
      "179/179 [==============================] - 1s 5ms/step - loss: -20860762.0000 - accuracy: 0.0075 - val_loss: -21615536.0000 - val_accuracy: 0.0077\n",
      "Epoch 43/100\n",
      "179/179 [==============================] - 1s 4ms/step - loss: -22107862.0000 - accuracy: 0.0075 - val_loss: -22894248.0000 - val_accuracy: 0.0077\n",
      "Epoch 44/100\n",
      "179/179 [==============================] - 1s 3ms/step - loss: -23398084.0000 - accuracy: 0.0075 - val_loss: -24214602.0000 - val_accuracy: 0.0077\n",
      "Epoch 45/100\n",
      "179/179 [==============================] - 1s 4ms/step - loss: -24732242.0000 - accuracy: 0.0075 - val_loss: -25579532.0000 - val_accuracy: 0.0077\n",
      "Epoch 46/100\n",
      "179/179 [==============================] - 1s 5ms/step - loss: -26111228.0000 - accuracy: 0.0075 - val_loss: -26990136.0000 - val_accuracy: 0.0077\n",
      "Epoch 47/100\n",
      "179/179 [==============================] - 1s 3ms/step - loss: -27535742.0000 - accuracy: 0.0075 - val_loss: -28445878.0000 - val_accuracy: 0.0077\n",
      "Epoch 48/100\n",
      "179/179 [==============================] - 1s 4ms/step - loss: -29005924.0000 - accuracy: 0.0075 - val_loss: -29949932.0000 - val_accuracy: 0.0077\n",
      "Epoch 49/100\n",
      "179/179 [==============================] - 1s 3ms/step - loss: -30522644.0000 - accuracy: 0.0075 - val_loss: -31500422.0000 - val_accuracy: 0.0077\n",
      "Epoch 50/100\n",
      "179/179 [==============================] - 1s 3ms/step - loss: -32086848.0000 - accuracy: 0.0075 - val_loss: -33096428.0000 - val_accuracy: 0.0077\n",
      "Epoch 51/100\n",
      "179/179 [==============================] - 1s 3ms/step - loss: -33697932.0000 - accuracy: 0.0075 - val_loss: -34744268.0000 - val_accuracy: 0.0077\n",
      "Epoch 52/100\n",
      "179/179 [==============================] - 1s 3ms/step - loss: -35357448.0000 - accuracy: 0.0075 - val_loss: -36438760.0000 - val_accuracy: 0.0077\n",
      "Epoch 53/100\n",
      "179/179 [==============================] - 1s 3ms/step - loss: -37065552.0000 - accuracy: 0.0075 - val_loss: -38183460.0000 - val_accuracy: 0.0077\n",
      "Epoch 54/100\n",
      "179/179 [==============================] - 1s 4ms/step - loss: -38823420.0000 - accuracy: 0.0075 - val_loss: -39973468.0000 - val_accuracy: 0.0077\n",
      "Epoch 55/100\n",
      "179/179 [==============================] - 1s 6ms/step - loss: -40631060.0000 - accuracy: 0.0075 - val_loss: -41821708.0000 - val_accuracy: 0.0077\n",
      "Epoch 56/100\n",
      "179/179 [==============================] - 1s 5ms/step - loss: -42489628.0000 - accuracy: 0.0075 - val_loss: -43717488.0000 - val_accuracy: 0.0077\n",
      "Epoch 57/100\n",
      "179/179 [==============================] - 1s 3ms/step - loss: -44399100.0000 - accuracy: 0.0075 - val_loss: -45664228.0000 - val_accuracy: 0.0077\n",
      "Epoch 58/100\n",
      "179/179 [==============================] - 1s 3ms/step - loss: -46360760.0000 - accuracy: 0.0075 - val_loss: -47664264.0000 - val_accuracy: 0.0077\n",
      "Epoch 59/100\n",
      "179/179 [==============================] - 1s 3ms/step - loss: -48375012.0000 - accuracy: 0.0075 - val_loss: -49717748.0000 - val_accuracy: 0.0077\n",
      "Epoch 60/100\n",
      "179/179 [==============================] - 1s 4ms/step - loss: -50441320.0000 - accuracy: 0.0075 - val_loss: -51825368.0000 - val_accuracy: 0.0077\n",
      "Epoch 61/100\n",
      "179/179 [==============================] - 1s 4ms/step - loss: -52561464.0000 - accuracy: 0.0075 - val_loss: -53985256.0000 - val_accuracy: 0.0077\n",
      "Epoch 62/100\n",
      "179/179 [==============================] - 1s 3ms/step - loss: -54735264.0000 - accuracy: 0.0075 - val_loss: -56200636.0000 - val_accuracy: 0.0077\n",
      "Epoch 63/100\n",
      "179/179 [==============================] - 1s 3ms/step - loss: -56964084.0000 - accuracy: 0.0075 - val_loss: -58472612.0000 - val_accuracy: 0.0077\n",
      "Epoch 64/100\n",
      "179/179 [==============================] - 1s 3ms/step - loss: -59248508.0000 - accuracy: 0.0075 - val_loss: -60796460.0000 - val_accuracy: 0.0077\n",
      "Epoch 65/100\n",
      "179/179 [==============================] - 1s 4ms/step - loss: -61588024.0000 - accuracy: 0.0075 - val_loss: -63184960.0000 - val_accuracy: 0.0077\n",
      "Epoch 66/100\n",
      "179/179 [==============================] - 1s 3ms/step - loss: -63985032.0000 - accuracy: 0.0075 - val_loss: -65622116.0000 - val_accuracy: 0.0077\n",
      "Epoch 67/100\n",
      "179/179 [==============================] - 1s 5ms/step - loss: -66438376.0000 - accuracy: 0.0075 - val_loss: -68121568.0000 - val_accuracy: 0.0077\n",
      "Epoch 68/100\n",
      "179/179 [==============================] - 1s 3ms/step - loss: -68949440.0000 - accuracy: 0.0075 - val_loss: -70679080.0000 - val_accuracy: 0.0077\n",
      "Epoch 69/100\n",
      "179/179 [==============================] - 1s 3ms/step - loss: -71519536.0000 - accuracy: 0.0075 - val_loss: -73292728.0000 - val_accuracy: 0.0077\n",
      "Epoch 70/100\n",
      "179/179 [==============================] - 1s 3ms/step - loss: -74147760.0000 - accuracy: 0.0075 - val_loss: -75967488.0000 - val_accuracy: 0.0077\n",
      "Epoch 71/100\n",
      "179/179 [==============================] - 1s 3ms/step - loss: -76834672.0000 - accuracy: 0.0075 - val_loss: -78703528.0000 - val_accuracy: 0.0077\n",
      "Epoch 72/100\n",
      "179/179 [==============================] - 1s 3ms/step - loss: -79582944.0000 - accuracy: 0.0075 - val_loss: -81496336.0000 - val_accuracy: 0.0077\n",
      "Epoch 73/100\n",
      "179/179 [==============================] - 1s 3ms/step - loss: -82391112.0000 - accuracy: 0.0075 - val_loss: -84354008.0000 - val_accuracy: 0.0077\n",
      "Epoch 74/100\n",
      "179/179 [==============================] - 1s 3ms/step - loss: -85261144.0000 - accuracy: 0.0075 - val_loss: -87273512.0000 - val_accuracy: 0.0077\n",
      "Epoch 75/100\n",
      "179/179 [==============================] - 1s 3ms/step - loss: -88191808.0000 - accuracy: 0.0075 - val_loss: -90257176.0000 - val_accuracy: 0.0077\n",
      "Epoch 76/100\n",
      "179/179 [==============================] - 1s 4ms/step - loss: -91184552.0000 - accuracy: 0.0075 - val_loss: -93293992.0000 - val_accuracy: 0.0077\n",
      "Epoch 77/100\n",
      "179/179 [==============================] - 1s 3ms/step - loss: -94239632.0000 - accuracy: 0.0075 - val_loss: -96404624.0000 - val_accuracy: 0.0077\n",
      "Epoch 78/100\n",
      "179/179 [==============================] - 1s 3ms/step - loss: -97358512.0000 - accuracy: 0.0075 - val_loss: -99572840.0000 - val_accuracy: 0.0077\n",
      "Epoch 79/100\n",
      "179/179 [==============================] - 1s 3ms/step - loss: -100540688.0000 - accuracy: 0.0075 - val_loss: -102811376.0000 - val_accuracy: 0.0077\n",
      "Epoch 80/100\n",
      "179/179 [==============================] - 1s 3ms/step - loss: -103787464.0000 - accuracy: 0.0075 - val_loss: -106109744.0000 - val_accuracy: 0.0077\n",
      "Epoch 81/100\n",
      "179/179 [==============================] - 1s 3ms/step - loss: -107097976.0000 - accuracy: 0.0075 - val_loss: -109477440.0000 - val_accuracy: 0.0077\n",
      "Epoch 82/100\n",
      "179/179 [==============================] - 1s 3ms/step - loss: -110475080.0000 - accuracy: 0.0075 - val_loss: -112901088.0000 - val_accuracy: 0.0077\n",
      "Epoch 83/100\n",
      "179/179 [==============================] - 1s 3ms/step - loss: -113918832.0000 - accuracy: 0.0075 - val_loss: -116403168.0000 - val_accuracy: 0.0077\n",
      "Epoch 84/100\n",
      "179/179 [==============================] - 1s 3ms/step - loss: -117429504.0000 - accuracy: 0.0075 - val_loss: -119971384.0000 - val_accuracy: 0.0077\n",
      "Epoch 85/100\n",
      "179/179 [==============================] - 1s 3ms/step - loss: -121006104.0000 - accuracy: 0.0075 - val_loss: -123606944.0000 - val_accuracy: 0.0077\n",
      "Epoch 86/100\n",
      "179/179 [==============================] - 1s 6ms/step - loss: -124652024.0000 - accuracy: 0.0075 - val_loss: -127307344.0000 - val_accuracy: 0.0077\n",
      "Epoch 87/100\n",
      "179/179 [==============================] - 1s 3ms/step - loss: -128366520.0000 - accuracy: 0.0075 - val_loss: -131084728.0000 - val_accuracy: 0.0077\n",
      "Epoch 88/100\n",
      "179/179 [==============================] - 1s 3ms/step - loss: -132150016.0000 - accuracy: 0.0075 - val_loss: -134926128.0000 - val_accuracy: 0.0077\n",
      "Epoch 89/100\n",
      "179/179 [==============================] - 1s 3ms/step - loss: -136003104.0000 - accuracy: 0.0075 - val_loss: -138837312.0000 - val_accuracy: 0.0077\n",
      "Epoch 90/100\n",
      "179/179 [==============================] - 1s 3ms/step - loss: -139926864.0000 - accuracy: 0.0075 - val_loss: -142823664.0000 - val_accuracy: 0.0077\n",
      "Epoch 91/100\n",
      "179/179 [==============================] - 1s 3ms/step - loss: -143921552.0000 - accuracy: 0.0075 - val_loss: -146875984.0000 - val_accuracy: 0.0077\n",
      "Epoch 92/100\n",
      "179/179 [==============================] - 1s 3ms/step - loss: -147987696.0000 - accuracy: 0.0075 - val_loss: -151005024.0000 - val_accuracy: 0.0077\n",
      "Epoch 93/100\n",
      "179/179 [==============================] - 1s 3ms/step - loss: -152124272.0000 - accuracy: 0.0075 - val_loss: -155204752.0000 - val_accuracy: 0.0077\n",
      "Epoch 94/100\n",
      "179/179 [==============================] - 1s 3ms/step - loss: -156334352.0000 - accuracy: 0.0075 - val_loss: -159480384.0000 - val_accuracy: 0.0077\n",
      "Epoch 95/100\n",
      "179/179 [==============================] - 1s 5ms/step - loss: -160616928.0000 - accuracy: 0.0075 - val_loss: -163828464.0000 - val_accuracy: 0.0077\n",
      "Epoch 96/100\n",
      "179/179 [==============================] - 1s 3ms/step - loss: -164972512.0000 - accuracy: 0.0075 - val_loss: -168249120.0000 - val_accuracy: 0.0077\n",
      "Epoch 97/100\n",
      "179/179 [==============================] - 1s 3ms/step - loss: -169402112.0000 - accuracy: 0.0075 - val_loss: -172743760.0000 - val_accuracy: 0.0077\n",
      "Epoch 98/100\n",
      "179/179 [==============================] - 1s 3ms/step - loss: -173906992.0000 - accuracy: 0.0075 - val_loss: -177313552.0000 - val_accuracy: 0.0077\n",
      "Epoch 99/100\n",
      "179/179 [==============================] - 1s 3ms/step - loss: -178488416.0000 - accuracy: 0.0075 - val_loss: -181960784.0000 - val_accuracy: 0.0077\n",
      "Epoch 100/100\n",
      "179/179 [==============================] - 1s 3ms/step - loss: -183145792.0000 - accuracy: 0.0075 - val_loss: -186688864.0000 - val_accuracy: 0.0077\n"
     ]
    }
   ],
   "source": [
    "history = nn_model.fit(\n",
    "    X_train,\n",
    "    y_train,\n",
    "    epochs=100,  # epoch = training cycle\n",
    "    batch_size=32,\n",
    "    validation_split=0.2  # ??Uses some part of the data to validate the model\n",
    ")"
   ]
  },
  {
   "cell_type": "code",
   "execution_count": 484,
   "metadata": {},
   "outputs": [],
   "source": [
    "def plot_loss(history):\n",
    "\n",
    "    fig, (ax1, ax2) = plt.subplots(1 ,2, figsize=(10, 4))\n",
    "\n",
    "    ax1.plot(history.history['loss'], label='loss')\n",
    "    ax1.plot(history.history['val_loss'], label='val_loss')\n",
    "    ax1.set_xlabel('Epoch')\n",
    "    ax1.set_ylabel('Binary crossentropy')\n",
    "    ax1.grid(True)\n",
    "\n",
    "    ax2.plot(history.history['accuracy'], label='accuracy')\n",
    "    ax2.plot(history.history['val_accuracy'], label='val_accuracy')\n",
    "    ax2.set_xlabel('Epoch')\n",
    "    ax2.set_ylabel('Binary crossentropy')\n",
    "    ax2.grid(True)\n",
    "\n",
    "    plt.show()"
   ]
  },
  {
   "cell_type": "code",
   "execution_count": 485,
   "metadata": {},
   "outputs": [
    {
     "data": {
      "image/png": "[encoded data removed]",
      "text/plain": [
       "<Figure size 1000x400 with 2 Axes>"
      ]
     },
     "metadata": {},
     "output_type": "display_data"
    }
   ],
   "source": [
    "plot_loss(history)"
   ]
  },
  {
   "cell_type": "code",
   "execution_count": null,
   "metadata": {},
   "outputs": [],
   "source": [
    "for label in restaurants.columns[9:]:\n",
    "    display(pd.crosstab(restaurants[label][restaurants[label].notna()], restaurants['stars'][restaurants[label].notna()], margins=True, normalize='columns'))"
   ]
  },
  {
   "cell_type": "code",
   "execution_count": null,
   "metadata": {},
   "outputs": [],
   "source": [
    "from sklearn.feature_selection import f_regression"
   ]
  },
  {
   "cell_type": "code",
   "execution_count": null,
   "metadata": {},
   "outputs": [],
   "source": [
    "data_table_service = restaurants[['table_service', 'stars']][restaurants['table_service'].notna()]"
   ]
  },
  {
   "cell_type": "code",
   "execution_count": null,
   "metadata": {},
   "outputs": [],
   "source": [
    "data_table_service"
   ]
  },
  {
   "cell_type": "code",
   "execution_count": null,
   "metadata": {},
   "outputs": [],
   "source": [
    "data_table_service['table_service'] = (data_table_service['table_service'] == 'True').astype(int)"
   ]
  },
  {
   "cell_type": "code",
   "execution_count": null,
   "metadata": {},
   "outputs": [],
   "source": [
    "X = np.reshape(data_table_service['table_service'], (-1, 1))\n",
    "y = data_table_service['stars']"
   ]
  },
  {
   "cell_type": "code",
   "execution_count": null,
   "metadata": {},
   "outputs": [],
   "source": [
    "y"
   ]
  },
  {
   "cell_type": "code",
   "execution_count": null,
   "metadata": {},
   "outputs": [],
   "source": [
    "data_table_service['stars']"
   ]
  },
  {
   "cell_type": "code",
   "execution_count": null,
   "metadata": {},
   "outputs": [],
   "source": [
    "f_statistic, p_values = f_regression(X, y)"
   ]
  },
  {
   "cell_type": "code",
   "execution_count": null,
   "metadata": {},
   "outputs": [],
   "source": [
    "f_statistic"
   ]
  },
  {
   "cell_type": "code",
   "execution_count": null,
   "metadata": {},
   "outputs": [],
   "source": [
    "for i in range(len(f_statistic)):\n",
    "    print(f\"Feature {i + 1}: F-statistic = {f_statistic[i]}, P-value = {p_values[i]}\")"
   ]
  },
  {
   "cell_type": "code",
   "execution_count": null,
   "metadata": {},
   "outputs": [],
   "source": [
    "with open('tables/restaurants_pennsylvania.csv', 'w') as f:\n",
    "    restaurants.to_csv(f, header=True, index=False)"
   ]
  },
  {
   "cell_type": "markdown",
   "metadata": {},
   "source": [
    "### We have created a table with all restaurants in Pennsylvania and saved it in a .csv for later analysis"
   ]
  },
  {
   "cell_type": "markdown",
   "metadata": {},
   "source": [
    "### Now we load the table with all reviews and create a .csv which only contains reviews from restaurants in Pennsylvania"
   ]
  },
  {
   "cell_type": "code",
   "execution_count": null,
   "metadata": {},
   "outputs": [],
   "source": [
    "businesses_ids = restaurants['business_id'].to_list()\n",
    "\n",
    "column_names = ['review_id', 'user_id', 'business_id', 'stars', 'useful', 'funny', 'cool', 'text', 'date']\n",
    "\n",
    "chunks = pd.read_json('yelp_dataset/yelp_academic_dataset_review.json', lines=True, chunksize=100000)\n",
    "\n",
    "with open('tables/reviews_pennsylvania.csv', 'w') as f:\n",
    "    header = ','.join(column_names)\n",
    "    f.write(header + '\\n')\n",
    "\n",
    "    for chunk in chunks:\n",
    "        reviews = pd.DataFrame(chunk)\n",
    "        \n",
    "        reviews[reviews['business_id'].isin(businesses_ids)].to_csv(f, mode='a', header=False, index=False)"
   ]
  },
  {
   "cell_type": "markdown",
   "metadata": {},
   "source": [
    "### Analysis starts here"
   ]
  },
  {
   "cell_type": "code",
   "execution_count": null,
   "metadata": {},
   "outputs": [],
   "source": [
    "restaurants = get_file('tables/restaurants_pennsylvania.csv')"
   ]
  },
  {
   "cell_type": "code",
   "execution_count": null,
   "metadata": {},
   "outputs": [],
   "source": [
    "import seaborn as sns\n",
    "import matplotlib.pyplot as plt\n",
    "\n",
    "fig, ax = plt.subplots(1, figsize=(5, 5))\n",
    "\n",
    "# fig.suptitle('Customer ratings', fontsize=16)\n",
    "\n",
    "sns.barplot(\n",
    "    ax = ax,\n",
    "    x=restaurants['stars'].value_counts().sort_index().index,\n",
    "    y=restaurants['stars'].value_counts().sort_index().values*100/restaurants['stars'].value_counts().sort_index().values.sum(),\n",
    "    color='#FF1A1A'\n",
    ")\n",
    "ax.set(xlabel='Stars', ylabel='No. of businesses in %')\n",
    "ax.set_title('Star ratings');"
   ]
  },
  {
   "cell_type": "code",
   "execution_count": null,
   "metadata": {},
   "outputs": [],
   "source": [
    "restaurants[[\n",
    "    'stars',\n",
    "    'accepts_credit_cards',\n",
    "    'bike_parking',\n",
    "    'price_range',\n",
    "    'take_out',\n",
    "    'delivery',\n",
    "    'caters',\n",
    "    'wi_fi',\n",
    "    'outdoor_seating',\n",
    "    'has_tv',\n",
    "    'reservations',\n",
    "    'alcohol',\n",
    "    'good_for_kids',\n",
    "    'attire',\n",
    "    'table_service',\n",
    "    'good_for_groups',\n",
    "    'noise_level',\n",
    "    'parking_available'\n",
    "]].corr(method='spearman')"
   ]
  },
  {
   "cell_type": "code",
   "execution_count": null,
   "metadata": {},
   "outputs": [],
   "source": [
    "reviews = get_file('tables/reviews_pennsylvania.csv')"
   ]
  },
  {
   "cell_type": "code",
   "execution_count": null,
   "metadata": {},
   "outputs": [],
   "source": [
    "import spacy\n",
    "from spacytextblob.spacytextblob import SpacyTextBlob\n",
    "\n",
    "nlp = spacy.load('en_core_web_md')\n",
    "nlp.add_pipe('spacytextblob')\n",
    "\n",
    "def check_polarity(text):\n",
    "    doc = nlp(text)\n",
    "    return doc._.blob.polarity\n",
    "\n",
    "reviews['polarity'] = reviews['text'][:10000].apply(lambda x: check_polarity(x))"
   ]
  },
  {
   "cell_type": "code",
   "execution_count": null,
   "metadata": {},
   "outputs": [],
   "source": [
    "with open('tables/reviews_polarity.csv', 'w') as f:\n",
    "    reviews[:10000].to_csv(f, header=True, index=False)"
   ]
  },
  {
   "cell_type": "code",
   "execution_count": null,
   "metadata": {},
   "outputs": [],
   "source": [
    "reviews = get_file('tables/reviews_polarity.csv')"
   ]
  },
  {
   "cell_type": "code",
   "execution_count": null,
   "metadata": {},
   "outputs": [],
   "source": [
    "negative_reviews = reviews[reviews['polarity'] < 0]"
   ]
  },
  {
   "cell_type": "markdown",
   "metadata": {},
   "source": [
    "### Analys negative reviews"
   ]
  },
  {
   "cell_type": "markdown",
   "metadata": {},
   "source": [
    "#### We want to find statements about food"
   ]
  },
  {
   "cell_type": "code",
   "execution_count": null,
   "metadata": {},
   "outputs": [],
   "source": [
    "# Training the entity rule to recognize food\n",
    "\n",
    "food = pd.read_csv('food_labels/food.csv')"
   ]
  },
  {
   "cell_type": "code",
   "execution_count": null,
   "metadata": {},
   "outputs": [],
   "source": [
    "food_labels = food[food['description'].str.contains('[a-zA-Z]') == True]['description']"
   ]
  },
  {
   "cell_type": "code",
   "execution_count": null,
   "metadata": {},
   "outputs": [],
   "source": [
    "food_labels = food_labels[food_labels.str.split().apply(len) <= 2].drop_duplicates()"
   ]
  },
  {
   "cell_type": "code",
   "execution_count": null,
   "metadata": {},
   "outputs": [],
   "source": [
    "food_labels = food_labels.str.lower()"
   ]
  },
  {
   "cell_type": "code",
   "execution_count": null,
   "metadata": {},
   "outputs": [],
   "source": [
    "food_labels = food_labels[food_labels.str.contains('.*,.*,.*', regex=True) == False]"
   ]
  },
  {
   "cell_type": "code",
   "execution_count": null,
   "metadata": {},
   "outputs": [],
   "source": [
    "# Fix: Foods are comma seperated and order is reversed: 'muffins, blueberry' become 'blueberry muffins'\n",
    "\n",
    "food_labels[food_labels.str.contains(', ') == True] = (\n",
    "    food_labels[food_labels.str.contains(', ') == True].str.split(', ', expand=True)[1] +\n",
    "    ' ' +\n",
    "    food_labels[food_labels.str.contains(', ') == True].str.split(', ', expand=True)[0]\n",
    ")\n",
    "\n",
    "food_labels[food_labels.str.contains(',') == True] = (\n",
    "    food_labels[food_labels.str.contains(',') == True].str.split(',', expand=True)[1] +\n",
    "    ' ' +\n",
    "    food_labels[food_labels.str.contains(',') == True].str.split(',', expand=True)[0]\n",
    ")"
   ]
  },
  {
   "cell_type": "code",
   "execution_count": null,
   "metadata": {},
   "outputs": [],
   "source": [
    "# If label has no plural, create singular form. If label has no singular, create plural \n",
    "\n",
    "import spacy\n",
    "import lemminflect\n",
    "\n",
    "nlp = spacy.load('en_core_web_lg')\n",
    "\n",
    "inflected_labels = []\n",
    "\n",
    "for label in food_labels:\n",
    "    \n",
    "    doc = nlp(label)\n",
    "\n",
    "    if len(doc) == 1:\n",
    "        if doc[0].tag_ == 'NNS':\n",
    "            inflected_labels.append(doc[0]._.inflect('NN'))\n",
    "        else:\n",
    "            inflected_labels.append(doc[0]._.inflect('NNS'))\n",
    "\n",
    "    if len(doc) == 2:\n",
    "        if doc[1].tag_ == 'NNS':\n",
    "            inflected_labels.append(doc[0].text + ' ' + doc[1]._.inflect('NN'))\n",
    "        else:\n",
    "            inflected_labels.append(doc[0].text + ' ' + doc[1]._.inflect('NNS'))"
   ]
  },
  {
   "cell_type": "code",
   "execution_count": null,
   "metadata": {},
   "outputs": [],
   "source": [
    "food_labels_inflected = pd.Series(inflected_labels)"
   ]
  },
  {
   "cell_type": "code",
   "execution_count": null,
   "metadata": {},
   "outputs": [],
   "source": [
    "food_labels = pd.concat([food_labels, food_labels_inflected])"
   ]
  },
  {
   "cell_type": "code",
   "execution_count": null,
   "metadata": {},
   "outputs": [],
   "source": [
    "food_labels.drop_duplicates(inplace=True)"
   ]
  },
  {
   "cell_type": "code",
   "execution_count": null,
   "metadata": {},
   "outputs": [],
   "source": [
    "food_labels[food_labels.str.contains('bar', regex=True)]"
   ]
  },
  {
   "cell_type": "code",
   "execution_count": null,
   "metadata": {},
   "outputs": [],
   "source": [
    "# Add food labels to entity ruler\n",
    "\n",
    "food_labels = food_labels  # Remove 'bar' from foods_labels, add 'product'\n",
    "\n",
    "patterns = []\n",
    "\n",
    "nlp = spacy.load('en_core_web_lg')\n",
    "\n",
    "ruler = nlp.add_pipe('entity_ruler', before='ner')\n",
    "\n",
    "for label in food_labels:\n",
    "    patterns.append({'label': 'FOOD', 'pattern': label})\n",
    "\n",
    "ruler.add_patterns(patterns)"
   ]
  },
  {
   "cell_type": "code",
   "execution_count": null,
   "metadata": {},
   "outputs": [],
   "source": [
    "len(patterns)"
   ]
  },
  {
   "cell_type": "code",
   "execution_count": null,
   "metadata": {},
   "outputs": [],
   "source": [
    "ruler.to_disk('food_labels/food_patterns.jsonl')"
   ]
  },
  {
   "cell_type": "code",
   "execution_count": null,
   "metadata": {},
   "outputs": [],
   "source": [
    "nlp = spacy.load('en_core_web_lg')\n",
    "\n",
    "ruler = nlp.add_pipe(\"entity_ruler\", before='ner')\n",
    "\n",
    "ruler.from_disk('food_labels/food_patterns.jsonl')"
   ]
  }
 ],
 "metadata": {
  "kernelspec": {
   "display_name": "nf_sql",
   "language": "python",
   "name": "python3"
  },
  "language_info": {
   "codemirror_mode": {
    "name": "ipython",
    "version": 3
   },
   "file_extension": ".py",
   "mimetype": "text/x-python",
   "name": "python",
   "nbconvert_exporter": "python",
   "pygments_lexer": "ipython3",
   "version": "3.11.2"
  }
 },
 "nbformat": 4,
 "nbformat_minor": 2
}
